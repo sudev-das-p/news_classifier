{
  "cells": [
    {
      "cell_type": "code",
      "execution_count": 1,
      "id": "c462ec1a",
      "metadata": {
        "id": "c462ec1a"
      },
      "outputs": [],
      "source": [
        "import requests\n",
        "from bs4 import BeautifulSoup\n",
        "from urllib.parse import urljoin\n",
        "import pandas as pd\n",
        "import numpy as np"
      ]
    },
    {
      "cell_type": "markdown",
      "id": "f71dd988",
      "metadata": {
        "id": "f71dd988"
      },
      "source": [
        "# Web Scrapping"
      ]
    },
    {
      "cell_type": "code",
      "source": [
        "df = pd.read_csv('/content/cnn.csv')"
      ],
      "metadata": {
        "id": "PdRO4LVo6V7G"
      },
      "id": "PdRO4LVo6V7G",
      "execution_count": 2,
      "outputs": []
    },
    {
      "cell_type": "code",
      "execution_count": 3,
      "id": "9cb72adc",
      "metadata": {
        "id": "9cb72adc"
      },
      "outputs": [],
      "source": [
        "def scrap_cnn(topic):\n",
        "    base_url = f'https://edition.cnn.com/{topic}'\n",
        "    response = requests.get(base_url)\n",
        "\n",
        "    soup = BeautifulSoup(response.text, 'lxml')\n",
        "    if (topic=='sport' or topic=='entertainment'):\n",
        "        url_tags = soup.find_all('a', class_=\"container__link container__link--type-article container_lead-plus-headlines__link container_lead-plus-headlines__left container_lead-plus-headlines__light\")\n",
        "    else:\n",
        "        url_tags = soup.find_all('a', class_=\"container__link container__link--type-article container_lead-plus-headlines__link\")\n",
        "    urls = [urljoin(base_url, a.get('href')) for a in url_tags]\n",
        "    content_list = []\n",
        "    for url in urls:\n",
        "#         print(url)\n",
        "        response = requests.get(url)\n",
        "        if response.status_code == 200:\n",
        "            article_soup = BeautifulSoup(response.text, 'lxml')\n",
        "            headline = article_soup.find('h1', class_=\"headline__text inline-placeholder\")\n",
        "            text_li = article_soup.find_all('p', class_='paragraph inline-placeholder')\n",
        "            if headline:\n",
        "                content_list.append(headline.text.strip())\n",
        "                text = ' '.join([text_elem.get_text(strip=True) for text_elem in text_li])\n",
        "                content_list.extend(text.split('\\n'))\n",
        "\n",
        "\n",
        "    return content_list"
      ]
    },
    {
      "cell_type": "code",
      "source": [
        "def scrap_timesnow(topic):\n",
        "    base_url = f'https://www.timesnownews.com/{topic}'\n",
        "    response = requests.get(base_url)\n",
        "\n",
        "    soup = BeautifulSoup(response.text, 'lxml')\n",
        "\n",
        "    url_tags = soup.find_all('a', class_=\"undefined\")\n",
        "    urls = [urljoin(base_url, a.get('href')) for a in url_tags]\n",
        "    content_list = []\n",
        "    for url in urls:\n",
        "        # print(url)\n",
        "        response = requests.get(url)\n",
        "        if response.status_code == 200:\n",
        "            article_soup = BeautifulSoup(response.text, 'lxml')\n",
        "            headline = article_soup.find('h1', class_=\"_1Fcx\")\n",
        "            text_li = article_soup.find_all('div', class_='_1884')\n",
        "            text = ' '.join([text_elem.get_text(strip=True) for text_elem in text_li])\n",
        "            if headline:\n",
        "                content_list.append(headline.text.strip())\n",
        "                text = ' '.join([text_elem.get_text(strip=True) for text_elem in text_li])\n",
        "                content_list.extend(text.split('\\n'))\n",
        "\n",
        "\n",
        "\n",
        "    return content_list"
      ],
      "metadata": {
        "id": "X-Oaz-Rf3FEL"
      },
      "id": "X-Oaz-Rf3FEL",
      "execution_count": 4,
      "outputs": []
    },
    {
      "cell_type": "code",
      "execution_count": 5,
      "id": "2c58f5d4",
      "metadata": {
        "id": "2c58f5d4"
      },
      "outputs": [],
      "source": [
        "topics = ['world','entertainment','business','sport','sports','business-economy','entertainment-news']"
      ]
    },
    {
      "cell_type": "code",
      "source": [
        "# for topic in topics:\n",
        "#     scrap_timesnow(topic)\n"
      ],
      "metadata": {
        "id": "U8l4COym_uZc"
      },
      "id": "U8l4COym_uZc",
      "execution_count": 6,
      "outputs": []
    },
    {
      "cell_type": "code",
      "execution_count": 7,
      "id": "05cab725",
      "metadata": {
        "id": "05cab725"
      },
      "outputs": [],
      "source": [
        "# for topic in topics:\n",
        "#     headlines = scrap_cnn(topic)\n",
        "#     headlines_list.extend(headlines)\n",
        "#     print(len(headlines))"
      ]
    },
    {
      "cell_type": "code",
      "execution_count": 8,
      "id": "cbb18405",
      "metadata": {
        "id": "cbb18405"
      },
      "outputs": [],
      "source": [
        "headlines_list = {}\n",
        "for topic in topics:\n",
        "    headlines = scrap_cnn(topic)\n",
        "    headlines.extend(scrap_timesnow(topic))\n",
        "    headlines_list[topic] = headlines"
      ]
    },
    {
      "cell_type": "code",
      "execution_count": 9,
      "id": "6d984146",
      "metadata": {
        "id": "6d984146"
      },
      "outputs": [],
      "source": [
        "# for key in headlines_list.keys():\n",
        "#     print(\"len of \",key,len(headlines_list[key]))"
      ]
    },
    {
      "cell_type": "code",
      "execution_count": 10,
      "id": "40c5c3f8",
      "metadata": {
        "id": "40c5c3f8"
      },
      "outputs": [],
      "source": [
        "# len(headlines_list)"
      ]
    },
    {
      "cell_type": "code",
      "execution_count": 11,
      "id": "5020c1ca",
      "metadata": {
        "id": "5020c1ca"
      },
      "outputs": [],
      "source": [
        "# headlines_list"
      ]
    },
    {
      "cell_type": "code",
      "execution_count": 12,
      "id": "e324d729",
      "metadata": {
        "id": "e324d729"
      },
      "outputs": [],
      "source": [
        "df = pd.DataFrame(columns=['News','Topic'])"
      ]
    },
    {
      "cell_type": "code",
      "execution_count": 13,
      "id": "f3ef5c2a",
      "metadata": {
        "id": "f3ef5c2a",
        "colab": {
          "base_uri": "https://localhost:8080/"
        },
        "outputId": "c77d0050-3b5a-458a-f859-a54a7846eda4"
      },
      "outputs": [
        {
          "output_type": "stream",
          "name": "stderr",
          "text": [
            "<ipython-input-13-0a92b93fd21a>:2: FutureWarning: The frame.append method is deprecated and will be removed from pandas in a future version. Use pandas.concat instead.\n",
            "  df = df.append(pd.DataFrame({'News':value,'Topic':[key]*len(value)}),ignore_index=True)\n",
            "<ipython-input-13-0a92b93fd21a>:2: FutureWarning: The frame.append method is deprecated and will be removed from pandas in a future version. Use pandas.concat instead.\n",
            "  df = df.append(pd.DataFrame({'News':value,'Topic':[key]*len(value)}),ignore_index=True)\n",
            "<ipython-input-13-0a92b93fd21a>:2: FutureWarning: The frame.append method is deprecated and will be removed from pandas in a future version. Use pandas.concat instead.\n",
            "  df = df.append(pd.DataFrame({'News':value,'Topic':[key]*len(value)}),ignore_index=True)\n",
            "<ipython-input-13-0a92b93fd21a>:2: FutureWarning: The frame.append method is deprecated and will be removed from pandas in a future version. Use pandas.concat instead.\n",
            "  df = df.append(pd.DataFrame({'News':value,'Topic':[key]*len(value)}),ignore_index=True)\n",
            "<ipython-input-13-0a92b93fd21a>:2: FutureWarning: The frame.append method is deprecated and will be removed from pandas in a future version. Use pandas.concat instead.\n",
            "  df = df.append(pd.DataFrame({'News':value,'Topic':[key]*len(value)}),ignore_index=True)\n",
            "<ipython-input-13-0a92b93fd21a>:2: FutureWarning: The frame.append method is deprecated and will be removed from pandas in a future version. Use pandas.concat instead.\n",
            "  df = df.append(pd.DataFrame({'News':value,'Topic':[key]*len(value)}),ignore_index=True)\n",
            "<ipython-input-13-0a92b93fd21a>:2: FutureWarning: The frame.append method is deprecated and will be removed from pandas in a future version. Use pandas.concat instead.\n",
            "  df = df.append(pd.DataFrame({'News':value,'Topic':[key]*len(value)}),ignore_index=True)\n"
          ]
        }
      ],
      "source": [
        "for key,value in headlines_list.items():\n",
        "    df = df.append(pd.DataFrame({'News':value,'Topic':[key]*len(value)}),ignore_index=True)"
      ]
    },
    {
      "cell_type": "code",
      "source": [
        "df"
      ],
      "metadata": {
        "colab": {
          "base_uri": "https://localhost:8080/",
          "height": 424
        },
        "id": "bvh82dPJsD0i",
        "outputId": "b94aa304-df09-4a7e-999f-9c3b01b61b29"
      },
      "id": "bvh82dPJsD0i",
      "execution_count": 14,
      "outputs": [
        {
          "output_type": "execute_result",
          "data": {
            "text/plain": [
              "                                                  News               Topic\n",
              "0    ‘Battle against time’ to find quake survivors ...               world\n",
              "1    Scenes of devastation emerged along Japan’s we...               world\n",
              "2    ‘Battle against time’ to find quake survivors ...               world\n",
              "3    Scenes of devastation emerged along Japan’s we...               world\n",
              "4    South Korean opposition leader conscious after...               world\n",
              "..                                                 ...                 ...\n",
              "759   Dharmatic Entertainment, which produces OTT c...  entertainment-news\n",
              "760  ​A Ranjith Cinema: A Failed Experiment With Truth  entertainment-news\n",
              "761   The title is a bit of a misnomer. However,A R...  entertainment-news\n",
              "762  The Crown's Luther Ford Reveals Who Pushed Him...  entertainment-news\n",
              "763   InThe Crown Season 6Part 2, the Peter Morgan ...  entertainment-news\n",
              "\n",
              "[764 rows x 2 columns]"
            ],
            "text/html": [
              "\n",
              "  <div id=\"df-f2165c36-765f-4342-af3a-913f24a794c5\" class=\"colab-df-container\">\n",
              "    <div>\n",
              "<style scoped>\n",
              "    .dataframe tbody tr th:only-of-type {\n",
              "        vertical-align: middle;\n",
              "    }\n",
              "\n",
              "    .dataframe tbody tr th {\n",
              "        vertical-align: top;\n",
              "    }\n",
              "\n",
              "    .dataframe thead th {\n",
              "        text-align: right;\n",
              "    }\n",
              "</style>\n",
              "<table border=\"1\" class=\"dataframe\">\n",
              "  <thead>\n",
              "    <tr style=\"text-align: right;\">\n",
              "      <th></th>\n",
              "      <th>News</th>\n",
              "      <th>Topic</th>\n",
              "    </tr>\n",
              "  </thead>\n",
              "  <tbody>\n",
              "    <tr>\n",
              "      <th>0</th>\n",
              "      <td>‘Battle against time’ to find quake survivors ...</td>\n",
              "      <td>world</td>\n",
              "    </tr>\n",
              "    <tr>\n",
              "      <th>1</th>\n",
              "      <td>Scenes of devastation emerged along Japan’s we...</td>\n",
              "      <td>world</td>\n",
              "    </tr>\n",
              "    <tr>\n",
              "      <th>2</th>\n",
              "      <td>‘Battle against time’ to find quake survivors ...</td>\n",
              "      <td>world</td>\n",
              "    </tr>\n",
              "    <tr>\n",
              "      <th>3</th>\n",
              "      <td>Scenes of devastation emerged along Japan’s we...</td>\n",
              "      <td>world</td>\n",
              "    </tr>\n",
              "    <tr>\n",
              "      <th>4</th>\n",
              "      <td>South Korean opposition leader conscious after...</td>\n",
              "      <td>world</td>\n",
              "    </tr>\n",
              "    <tr>\n",
              "      <th>...</th>\n",
              "      <td>...</td>\n",
              "      <td>...</td>\n",
              "    </tr>\n",
              "    <tr>\n",
              "      <th>759</th>\n",
              "      <td>Dharmatic Entertainment, which produces OTT c...</td>\n",
              "      <td>entertainment-news</td>\n",
              "    </tr>\n",
              "    <tr>\n",
              "      <th>760</th>\n",
              "      <td>​A Ranjith Cinema: A Failed Experiment With Truth</td>\n",
              "      <td>entertainment-news</td>\n",
              "    </tr>\n",
              "    <tr>\n",
              "      <th>761</th>\n",
              "      <td>The title is a bit of a misnomer. However,A R...</td>\n",
              "      <td>entertainment-news</td>\n",
              "    </tr>\n",
              "    <tr>\n",
              "      <th>762</th>\n",
              "      <td>The Crown's Luther Ford Reveals Who Pushed Him...</td>\n",
              "      <td>entertainment-news</td>\n",
              "    </tr>\n",
              "    <tr>\n",
              "      <th>763</th>\n",
              "      <td>InThe Crown Season 6Part 2, the Peter Morgan ...</td>\n",
              "      <td>entertainment-news</td>\n",
              "    </tr>\n",
              "  </tbody>\n",
              "</table>\n",
              "<p>764 rows × 2 columns</p>\n",
              "</div>\n",
              "    <div class=\"colab-df-buttons\">\n",
              "\n",
              "  <div class=\"colab-df-container\">\n",
              "    <button class=\"colab-df-convert\" onclick=\"convertToInteractive('df-f2165c36-765f-4342-af3a-913f24a794c5')\"\n",
              "            title=\"Convert this dataframe to an interactive table.\"\n",
              "            style=\"display:none;\">\n",
              "\n",
              "  <svg xmlns=\"http://www.w3.org/2000/svg\" height=\"24px\" viewBox=\"0 -960 960 960\">\n",
              "    <path d=\"M120-120v-720h720v720H120Zm60-500h600v-160H180v160Zm220 220h160v-160H400v160Zm0 220h160v-160H400v160ZM180-400h160v-160H180v160Zm440 0h160v-160H620v160ZM180-180h160v-160H180v160Zm440 0h160v-160H620v160Z\"/>\n",
              "  </svg>\n",
              "    </button>\n",
              "\n",
              "  <style>\n",
              "    .colab-df-container {\n",
              "      display:flex;\n",
              "      gap: 12px;\n",
              "    }\n",
              "\n",
              "    .colab-df-convert {\n",
              "      background-color: #E8F0FE;\n",
              "      border: none;\n",
              "      border-radius: 50%;\n",
              "      cursor: pointer;\n",
              "      display: none;\n",
              "      fill: #1967D2;\n",
              "      height: 32px;\n",
              "      padding: 0 0 0 0;\n",
              "      width: 32px;\n",
              "    }\n",
              "\n",
              "    .colab-df-convert:hover {\n",
              "      background-color: #E2EBFA;\n",
              "      box-shadow: 0px 1px 2px rgba(60, 64, 67, 0.3), 0px 1px 3px 1px rgba(60, 64, 67, 0.15);\n",
              "      fill: #174EA6;\n",
              "    }\n",
              "\n",
              "    .colab-df-buttons div {\n",
              "      margin-bottom: 4px;\n",
              "    }\n",
              "\n",
              "    [theme=dark] .colab-df-convert {\n",
              "      background-color: #3B4455;\n",
              "      fill: #D2E3FC;\n",
              "    }\n",
              "\n",
              "    [theme=dark] .colab-df-convert:hover {\n",
              "      background-color: #434B5C;\n",
              "      box-shadow: 0px 1px 3px 1px rgba(0, 0, 0, 0.15);\n",
              "      filter: drop-shadow(0px 1px 2px rgba(0, 0, 0, 0.3));\n",
              "      fill: #FFFFFF;\n",
              "    }\n",
              "  </style>\n",
              "\n",
              "    <script>\n",
              "      const buttonEl =\n",
              "        document.querySelector('#df-f2165c36-765f-4342-af3a-913f24a794c5 button.colab-df-convert');\n",
              "      buttonEl.style.display =\n",
              "        google.colab.kernel.accessAllowed ? 'block' : 'none';\n",
              "\n",
              "      async function convertToInteractive(key) {\n",
              "        const element = document.querySelector('#df-f2165c36-765f-4342-af3a-913f24a794c5');\n",
              "        const dataTable =\n",
              "          await google.colab.kernel.invokeFunction('convertToInteractive',\n",
              "                                                    [key], {});\n",
              "        if (!dataTable) return;\n",
              "\n",
              "        const docLinkHtml = 'Like what you see? Visit the ' +\n",
              "          '<a target=\"_blank\" href=https://colab.research.google.com/notebooks/data_table.ipynb>data table notebook</a>'\n",
              "          + ' to learn more about interactive tables.';\n",
              "        element.innerHTML = '';\n",
              "        dataTable['output_type'] = 'display_data';\n",
              "        await google.colab.output.renderOutput(dataTable, element);\n",
              "        const docLink = document.createElement('div');\n",
              "        docLink.innerHTML = docLinkHtml;\n",
              "        element.appendChild(docLink);\n",
              "      }\n",
              "    </script>\n",
              "  </div>\n",
              "\n",
              "\n",
              "<div id=\"df-fcf94528-ffde-41c6-b4c5-85a7ceb659b8\">\n",
              "  <button class=\"colab-df-quickchart\" onclick=\"quickchart('df-fcf94528-ffde-41c6-b4c5-85a7ceb659b8')\"\n",
              "            title=\"Suggest charts\"\n",
              "            style=\"display:none;\">\n",
              "\n",
              "<svg xmlns=\"http://www.w3.org/2000/svg\" height=\"24px\"viewBox=\"0 0 24 24\"\n",
              "     width=\"24px\">\n",
              "    <g>\n",
              "        <path d=\"M19 3H5c-1.1 0-2 .9-2 2v14c0 1.1.9 2 2 2h14c1.1 0 2-.9 2-2V5c0-1.1-.9-2-2-2zM9 17H7v-7h2v7zm4 0h-2V7h2v10zm4 0h-2v-4h2v4z\"/>\n",
              "    </g>\n",
              "</svg>\n",
              "  </button>\n",
              "\n",
              "<style>\n",
              "  .colab-df-quickchart {\n",
              "      --bg-color: #E8F0FE;\n",
              "      --fill-color: #1967D2;\n",
              "      --hover-bg-color: #E2EBFA;\n",
              "      --hover-fill-color: #174EA6;\n",
              "      --disabled-fill-color: #AAA;\n",
              "      --disabled-bg-color: #DDD;\n",
              "  }\n",
              "\n",
              "  [theme=dark] .colab-df-quickchart {\n",
              "      --bg-color: #3B4455;\n",
              "      --fill-color: #D2E3FC;\n",
              "      --hover-bg-color: #434B5C;\n",
              "      --hover-fill-color: #FFFFFF;\n",
              "      --disabled-bg-color: #3B4455;\n",
              "      --disabled-fill-color: #666;\n",
              "  }\n",
              "\n",
              "  .colab-df-quickchart {\n",
              "    background-color: var(--bg-color);\n",
              "    border: none;\n",
              "    border-radius: 50%;\n",
              "    cursor: pointer;\n",
              "    display: none;\n",
              "    fill: var(--fill-color);\n",
              "    height: 32px;\n",
              "    padding: 0;\n",
              "    width: 32px;\n",
              "  }\n",
              "\n",
              "  .colab-df-quickchart:hover {\n",
              "    background-color: var(--hover-bg-color);\n",
              "    box-shadow: 0 1px 2px rgba(60, 64, 67, 0.3), 0 1px 3px 1px rgba(60, 64, 67, 0.15);\n",
              "    fill: var(--button-hover-fill-color);\n",
              "  }\n",
              "\n",
              "  .colab-df-quickchart-complete:disabled,\n",
              "  .colab-df-quickchart-complete:disabled:hover {\n",
              "    background-color: var(--disabled-bg-color);\n",
              "    fill: var(--disabled-fill-color);\n",
              "    box-shadow: none;\n",
              "  }\n",
              "\n",
              "  .colab-df-spinner {\n",
              "    border: 2px solid var(--fill-color);\n",
              "    border-color: transparent;\n",
              "    border-bottom-color: var(--fill-color);\n",
              "    animation:\n",
              "      spin 1s steps(1) infinite;\n",
              "  }\n",
              "\n",
              "  @keyframes spin {\n",
              "    0% {\n",
              "      border-color: transparent;\n",
              "      border-bottom-color: var(--fill-color);\n",
              "      border-left-color: var(--fill-color);\n",
              "    }\n",
              "    20% {\n",
              "      border-color: transparent;\n",
              "      border-left-color: var(--fill-color);\n",
              "      border-top-color: var(--fill-color);\n",
              "    }\n",
              "    30% {\n",
              "      border-color: transparent;\n",
              "      border-left-color: var(--fill-color);\n",
              "      border-top-color: var(--fill-color);\n",
              "      border-right-color: var(--fill-color);\n",
              "    }\n",
              "    40% {\n",
              "      border-color: transparent;\n",
              "      border-right-color: var(--fill-color);\n",
              "      border-top-color: var(--fill-color);\n",
              "    }\n",
              "    60% {\n",
              "      border-color: transparent;\n",
              "      border-right-color: var(--fill-color);\n",
              "    }\n",
              "    80% {\n",
              "      border-color: transparent;\n",
              "      border-right-color: var(--fill-color);\n",
              "      border-bottom-color: var(--fill-color);\n",
              "    }\n",
              "    90% {\n",
              "      border-color: transparent;\n",
              "      border-bottom-color: var(--fill-color);\n",
              "    }\n",
              "  }\n",
              "</style>\n",
              "\n",
              "  <script>\n",
              "    async function quickchart(key) {\n",
              "      const quickchartButtonEl =\n",
              "        document.querySelector('#' + key + ' button');\n",
              "      quickchartButtonEl.disabled = true;  // To prevent multiple clicks.\n",
              "      quickchartButtonEl.classList.add('colab-df-spinner');\n",
              "      try {\n",
              "        const charts = await google.colab.kernel.invokeFunction(\n",
              "            'suggestCharts', [key], {});\n",
              "      } catch (error) {\n",
              "        console.error('Error during call to suggestCharts:', error);\n",
              "      }\n",
              "      quickchartButtonEl.classList.remove('colab-df-spinner');\n",
              "      quickchartButtonEl.classList.add('colab-df-quickchart-complete');\n",
              "    }\n",
              "    (() => {\n",
              "      let quickchartButtonEl =\n",
              "        document.querySelector('#df-fcf94528-ffde-41c6-b4c5-85a7ceb659b8 button');\n",
              "      quickchartButtonEl.style.display =\n",
              "        google.colab.kernel.accessAllowed ? 'block' : 'none';\n",
              "    })();\n",
              "  </script>\n",
              "</div>\n",
              "\n",
              "  <div id=\"id_7606cba5-3fa9-4e0b-9da5-0dd5a17c9cb1\">\n",
              "    <style>\n",
              "      .colab-df-generate {\n",
              "        background-color: #E8F0FE;\n",
              "        border: none;\n",
              "        border-radius: 50%;\n",
              "        cursor: pointer;\n",
              "        display: none;\n",
              "        fill: #1967D2;\n",
              "        height: 32px;\n",
              "        padding: 0 0 0 0;\n",
              "        width: 32px;\n",
              "      }\n",
              "\n",
              "      .colab-df-generate:hover {\n",
              "        background-color: #E2EBFA;\n",
              "        box-shadow: 0px 1px 2px rgba(60, 64, 67, 0.3), 0px 1px 3px 1px rgba(60, 64, 67, 0.15);\n",
              "        fill: #174EA6;\n",
              "      }\n",
              "\n",
              "      [theme=dark] .colab-df-generate {\n",
              "        background-color: #3B4455;\n",
              "        fill: #D2E3FC;\n",
              "      }\n",
              "\n",
              "      [theme=dark] .colab-df-generate:hover {\n",
              "        background-color: #434B5C;\n",
              "        box-shadow: 0px 1px 3px 1px rgba(0, 0, 0, 0.15);\n",
              "        filter: drop-shadow(0px 1px 2px rgba(0, 0, 0, 0.3));\n",
              "        fill: #FFFFFF;\n",
              "      }\n",
              "    </style>\n",
              "    <button class=\"colab-df-generate\" onclick=\"generateWithVariable('df')\"\n",
              "            title=\"Generate code using this dataframe.\"\n",
              "            style=\"display:none;\">\n",
              "\n",
              "  <svg xmlns=\"http://www.w3.org/2000/svg\" height=\"24px\"viewBox=\"0 0 24 24\"\n",
              "       width=\"24px\">\n",
              "    <path d=\"M7,19H8.4L18.45,9,17,7.55,7,17.6ZM5,21V16.75L18.45,3.32a2,2,0,0,1,2.83,0l1.4,1.43a1.91,1.91,0,0,1,.58,1.4,1.91,1.91,0,0,1-.58,1.4L9.25,21ZM18.45,9,17,7.55Zm-12,3A5.31,5.31,0,0,0,4.9,8.1,5.31,5.31,0,0,0,1,6.5,5.31,5.31,0,0,0,4.9,4.9,5.31,5.31,0,0,0,6.5,1,5.31,5.31,0,0,0,8.1,4.9,5.31,5.31,0,0,0,12,6.5,5.46,5.46,0,0,0,6.5,12Z\"/>\n",
              "  </svg>\n",
              "    </button>\n",
              "    <script>\n",
              "      (() => {\n",
              "      const buttonEl =\n",
              "        document.querySelector('#id_7606cba5-3fa9-4e0b-9da5-0dd5a17c9cb1 button.colab-df-generate');\n",
              "      buttonEl.style.display =\n",
              "        google.colab.kernel.accessAllowed ? 'block' : 'none';\n",
              "\n",
              "      buttonEl.onclick = () => {\n",
              "        google.colab.notebook.generateWithVariable('df');\n",
              "      }\n",
              "      })();\n",
              "    </script>\n",
              "  </div>\n",
              "\n",
              "    </div>\n",
              "  </div>\n"
            ]
          },
          "metadata": {},
          "execution_count": 14
        }
      ]
    },
    {
      "cell_type": "code",
      "source": [
        "df['Topic'].isnull().sum()"
      ],
      "metadata": {
        "id": "CevobXtvNHVi",
        "outputId": "1a01f8f9-52ca-4add-edfa-12a16739f765",
        "colab": {
          "base_uri": "https://localhost:8080/"
        }
      },
      "id": "CevobXtvNHVi",
      "execution_count": 15,
      "outputs": [
        {
          "output_type": "execute_result",
          "data": {
            "text/plain": [
              "0"
            ]
          },
          "metadata": {},
          "execution_count": 15
        }
      ]
    },
    {
      "cell_type": "code",
      "source": [
        "df.to_csv('cnn.csv',index=False)"
      ],
      "metadata": {
        "id": "Jt4oG1TJ6Qis"
      },
      "id": "Jt4oG1TJ6Qis",
      "execution_count": 16,
      "outputs": []
    },
    {
      "cell_type": "code",
      "source": [],
      "metadata": {
        "id": "hHxGOo6k7dVp"
      },
      "id": "hHxGOo6k7dVp",
      "execution_count": 16,
      "outputs": []
    },
    {
      "cell_type": "markdown",
      "id": "44218185",
      "metadata": {
        "id": "44218185"
      },
      "source": [
        "\n",
        "# Data Cleaning & Pre Processing"
      ]
    },
    {
      "cell_type": "code",
      "source": [
        "df.isnull().sum()"
      ],
      "metadata": {
        "id": "z007f6EJsCwf",
        "colab": {
          "base_uri": "https://localhost:8080/"
        },
        "outputId": "06b6d9f7-4c1f-4bbc-8816-f3ee44a3d700"
      },
      "id": "z007f6EJsCwf",
      "execution_count": 17,
      "outputs": [
        {
          "output_type": "execute_result",
          "data": {
            "text/plain": [
              "News     0\n",
              "Topic    0\n",
              "dtype: int64"
            ]
          },
          "metadata": {},
          "execution_count": 17
        }
      ]
    },
    {
      "cell_type": "code",
      "execution_count": 18,
      "id": "981c4fb9",
      "metadata": {
        "colab": {
          "base_uri": "https://localhost:8080/"
        },
        "id": "981c4fb9",
        "outputId": "d7d82d5b-480f-455c-fee2-427cb459f1f9"
      },
      "outputs": [
        {
          "output_type": "execute_result",
          "data": {
            "text/plain": [
              "152"
            ]
          },
          "metadata": {},
          "execution_count": 18
        }
      ],
      "source": [
        " df.duplicated().sum()"
      ]
    },
    {
      "cell_type": "code",
      "execution_count": 19,
      "id": "7e6dc554",
      "metadata": {
        "id": "7e6dc554"
      },
      "outputs": [],
      "source": [
        "df=df.drop_duplicates().reset_index(drop=True)"
      ]
    },
    {
      "cell_type": "code",
      "execution_count": 20,
      "id": "5c9780df",
      "metadata": {
        "colab": {
          "base_uri": "https://localhost:8080/",
          "height": 424
        },
        "id": "5c9780df",
        "outputId": "99e491b5-3d5d-41b9-dbcc-a51d72ed32e6"
      },
      "outputs": [
        {
          "output_type": "execute_result",
          "data": {
            "text/plain": [
              "                                                  News               Topic\n",
              "0    ‘Battle against time’ to find quake survivors ...               world\n",
              "1    Scenes of devastation emerged along Japan’s we...               world\n",
              "2    South Korean opposition leader conscious after...               world\n",
              "3    South Korea’s main opposition party leader Lee...               world\n",
              "4    Denmark’s Crown Princess Mary to become first ...               world\n",
              "..                                                 ...                 ...\n",
              "607   Dharmatic Entertainment, which produces OTT c...  entertainment-news\n",
              "608  ​A Ranjith Cinema: A Failed Experiment With Truth  entertainment-news\n",
              "609   The title is a bit of a misnomer. However,A R...  entertainment-news\n",
              "610  The Crown's Luther Ford Reveals Who Pushed Him...  entertainment-news\n",
              "611   InThe Crown Season 6Part 2, the Peter Morgan ...  entertainment-news\n",
              "\n",
              "[612 rows x 2 columns]"
            ],
            "text/html": [
              "\n",
              "  <div id=\"df-e1266d09-b940-4e57-ab8e-505c4d032f93\" class=\"colab-df-container\">\n",
              "    <div>\n",
              "<style scoped>\n",
              "    .dataframe tbody tr th:only-of-type {\n",
              "        vertical-align: middle;\n",
              "    }\n",
              "\n",
              "    .dataframe tbody tr th {\n",
              "        vertical-align: top;\n",
              "    }\n",
              "\n",
              "    .dataframe thead th {\n",
              "        text-align: right;\n",
              "    }\n",
              "</style>\n",
              "<table border=\"1\" class=\"dataframe\">\n",
              "  <thead>\n",
              "    <tr style=\"text-align: right;\">\n",
              "      <th></th>\n",
              "      <th>News</th>\n",
              "      <th>Topic</th>\n",
              "    </tr>\n",
              "  </thead>\n",
              "  <tbody>\n",
              "    <tr>\n",
              "      <th>0</th>\n",
              "      <td>‘Battle against time’ to find quake survivors ...</td>\n",
              "      <td>world</td>\n",
              "    </tr>\n",
              "    <tr>\n",
              "      <th>1</th>\n",
              "      <td>Scenes of devastation emerged along Japan’s we...</td>\n",
              "      <td>world</td>\n",
              "    </tr>\n",
              "    <tr>\n",
              "      <th>2</th>\n",
              "      <td>South Korean opposition leader conscious after...</td>\n",
              "      <td>world</td>\n",
              "    </tr>\n",
              "    <tr>\n",
              "      <th>3</th>\n",
              "      <td>South Korea’s main opposition party leader Lee...</td>\n",
              "      <td>world</td>\n",
              "    </tr>\n",
              "    <tr>\n",
              "      <th>4</th>\n",
              "      <td>Denmark’s Crown Princess Mary to become first ...</td>\n",
              "      <td>world</td>\n",
              "    </tr>\n",
              "    <tr>\n",
              "      <th>...</th>\n",
              "      <td>...</td>\n",
              "      <td>...</td>\n",
              "    </tr>\n",
              "    <tr>\n",
              "      <th>607</th>\n",
              "      <td>Dharmatic Entertainment, which produces OTT c...</td>\n",
              "      <td>entertainment-news</td>\n",
              "    </tr>\n",
              "    <tr>\n",
              "      <th>608</th>\n",
              "      <td>​A Ranjith Cinema: A Failed Experiment With Truth</td>\n",
              "      <td>entertainment-news</td>\n",
              "    </tr>\n",
              "    <tr>\n",
              "      <th>609</th>\n",
              "      <td>The title is a bit of a misnomer. However,A R...</td>\n",
              "      <td>entertainment-news</td>\n",
              "    </tr>\n",
              "    <tr>\n",
              "      <th>610</th>\n",
              "      <td>The Crown's Luther Ford Reveals Who Pushed Him...</td>\n",
              "      <td>entertainment-news</td>\n",
              "    </tr>\n",
              "    <tr>\n",
              "      <th>611</th>\n",
              "      <td>InThe Crown Season 6Part 2, the Peter Morgan ...</td>\n",
              "      <td>entertainment-news</td>\n",
              "    </tr>\n",
              "  </tbody>\n",
              "</table>\n",
              "<p>612 rows × 2 columns</p>\n",
              "</div>\n",
              "    <div class=\"colab-df-buttons\">\n",
              "\n",
              "  <div class=\"colab-df-container\">\n",
              "    <button class=\"colab-df-convert\" onclick=\"convertToInteractive('df-e1266d09-b940-4e57-ab8e-505c4d032f93')\"\n",
              "            title=\"Convert this dataframe to an interactive table.\"\n",
              "            style=\"display:none;\">\n",
              "\n",
              "  <svg xmlns=\"http://www.w3.org/2000/svg\" height=\"24px\" viewBox=\"0 -960 960 960\">\n",
              "    <path d=\"M120-120v-720h720v720H120Zm60-500h600v-160H180v160Zm220 220h160v-160H400v160Zm0 220h160v-160H400v160ZM180-400h160v-160H180v160Zm440 0h160v-160H620v160ZM180-180h160v-160H180v160Zm440 0h160v-160H620v160Z\"/>\n",
              "  </svg>\n",
              "    </button>\n",
              "\n",
              "  <style>\n",
              "    .colab-df-container {\n",
              "      display:flex;\n",
              "      gap: 12px;\n",
              "    }\n",
              "\n",
              "    .colab-df-convert {\n",
              "      background-color: #E8F0FE;\n",
              "      border: none;\n",
              "      border-radius: 50%;\n",
              "      cursor: pointer;\n",
              "      display: none;\n",
              "      fill: #1967D2;\n",
              "      height: 32px;\n",
              "      padding: 0 0 0 0;\n",
              "      width: 32px;\n",
              "    }\n",
              "\n",
              "    .colab-df-convert:hover {\n",
              "      background-color: #E2EBFA;\n",
              "      box-shadow: 0px 1px 2px rgba(60, 64, 67, 0.3), 0px 1px 3px 1px rgba(60, 64, 67, 0.15);\n",
              "      fill: #174EA6;\n",
              "    }\n",
              "\n",
              "    .colab-df-buttons div {\n",
              "      margin-bottom: 4px;\n",
              "    }\n",
              "\n",
              "    [theme=dark] .colab-df-convert {\n",
              "      background-color: #3B4455;\n",
              "      fill: #D2E3FC;\n",
              "    }\n",
              "\n",
              "    [theme=dark] .colab-df-convert:hover {\n",
              "      background-color: #434B5C;\n",
              "      box-shadow: 0px 1px 3px 1px rgba(0, 0, 0, 0.15);\n",
              "      filter: drop-shadow(0px 1px 2px rgba(0, 0, 0, 0.3));\n",
              "      fill: #FFFFFF;\n",
              "    }\n",
              "  </style>\n",
              "\n",
              "    <script>\n",
              "      const buttonEl =\n",
              "        document.querySelector('#df-e1266d09-b940-4e57-ab8e-505c4d032f93 button.colab-df-convert');\n",
              "      buttonEl.style.display =\n",
              "        google.colab.kernel.accessAllowed ? 'block' : 'none';\n",
              "\n",
              "      async function convertToInteractive(key) {\n",
              "        const element = document.querySelector('#df-e1266d09-b940-4e57-ab8e-505c4d032f93');\n",
              "        const dataTable =\n",
              "          await google.colab.kernel.invokeFunction('convertToInteractive',\n",
              "                                                    [key], {});\n",
              "        if (!dataTable) return;\n",
              "\n",
              "        const docLinkHtml = 'Like what you see? Visit the ' +\n",
              "          '<a target=\"_blank\" href=https://colab.research.google.com/notebooks/data_table.ipynb>data table notebook</a>'\n",
              "          + ' to learn more about interactive tables.';\n",
              "        element.innerHTML = '';\n",
              "        dataTable['output_type'] = 'display_data';\n",
              "        await google.colab.output.renderOutput(dataTable, element);\n",
              "        const docLink = document.createElement('div');\n",
              "        docLink.innerHTML = docLinkHtml;\n",
              "        element.appendChild(docLink);\n",
              "      }\n",
              "    </script>\n",
              "  </div>\n",
              "\n",
              "\n",
              "<div id=\"df-6be26f46-df41-4fb7-9696-15fcf0c6d384\">\n",
              "  <button class=\"colab-df-quickchart\" onclick=\"quickchart('df-6be26f46-df41-4fb7-9696-15fcf0c6d384')\"\n",
              "            title=\"Suggest charts\"\n",
              "            style=\"display:none;\">\n",
              "\n",
              "<svg xmlns=\"http://www.w3.org/2000/svg\" height=\"24px\"viewBox=\"0 0 24 24\"\n",
              "     width=\"24px\">\n",
              "    <g>\n",
              "        <path d=\"M19 3H5c-1.1 0-2 .9-2 2v14c0 1.1.9 2 2 2h14c1.1 0 2-.9 2-2V5c0-1.1-.9-2-2-2zM9 17H7v-7h2v7zm4 0h-2V7h2v10zm4 0h-2v-4h2v4z\"/>\n",
              "    </g>\n",
              "</svg>\n",
              "  </button>\n",
              "\n",
              "<style>\n",
              "  .colab-df-quickchart {\n",
              "      --bg-color: #E8F0FE;\n",
              "      --fill-color: #1967D2;\n",
              "      --hover-bg-color: #E2EBFA;\n",
              "      --hover-fill-color: #174EA6;\n",
              "      --disabled-fill-color: #AAA;\n",
              "      --disabled-bg-color: #DDD;\n",
              "  }\n",
              "\n",
              "  [theme=dark] .colab-df-quickchart {\n",
              "      --bg-color: #3B4455;\n",
              "      --fill-color: #D2E3FC;\n",
              "      --hover-bg-color: #434B5C;\n",
              "      --hover-fill-color: #FFFFFF;\n",
              "      --disabled-bg-color: #3B4455;\n",
              "      --disabled-fill-color: #666;\n",
              "  }\n",
              "\n",
              "  .colab-df-quickchart {\n",
              "    background-color: var(--bg-color);\n",
              "    border: none;\n",
              "    border-radius: 50%;\n",
              "    cursor: pointer;\n",
              "    display: none;\n",
              "    fill: var(--fill-color);\n",
              "    height: 32px;\n",
              "    padding: 0;\n",
              "    width: 32px;\n",
              "  }\n",
              "\n",
              "  .colab-df-quickchart:hover {\n",
              "    background-color: var(--hover-bg-color);\n",
              "    box-shadow: 0 1px 2px rgba(60, 64, 67, 0.3), 0 1px 3px 1px rgba(60, 64, 67, 0.15);\n",
              "    fill: var(--button-hover-fill-color);\n",
              "  }\n",
              "\n",
              "  .colab-df-quickchart-complete:disabled,\n",
              "  .colab-df-quickchart-complete:disabled:hover {\n",
              "    background-color: var(--disabled-bg-color);\n",
              "    fill: var(--disabled-fill-color);\n",
              "    box-shadow: none;\n",
              "  }\n",
              "\n",
              "  .colab-df-spinner {\n",
              "    border: 2px solid var(--fill-color);\n",
              "    border-color: transparent;\n",
              "    border-bottom-color: var(--fill-color);\n",
              "    animation:\n",
              "      spin 1s steps(1) infinite;\n",
              "  }\n",
              "\n",
              "  @keyframes spin {\n",
              "    0% {\n",
              "      border-color: transparent;\n",
              "      border-bottom-color: var(--fill-color);\n",
              "      border-left-color: var(--fill-color);\n",
              "    }\n",
              "    20% {\n",
              "      border-color: transparent;\n",
              "      border-left-color: var(--fill-color);\n",
              "      border-top-color: var(--fill-color);\n",
              "    }\n",
              "    30% {\n",
              "      border-color: transparent;\n",
              "      border-left-color: var(--fill-color);\n",
              "      border-top-color: var(--fill-color);\n",
              "      border-right-color: var(--fill-color);\n",
              "    }\n",
              "    40% {\n",
              "      border-color: transparent;\n",
              "      border-right-color: var(--fill-color);\n",
              "      border-top-color: var(--fill-color);\n",
              "    }\n",
              "    60% {\n",
              "      border-color: transparent;\n",
              "      border-right-color: var(--fill-color);\n",
              "    }\n",
              "    80% {\n",
              "      border-color: transparent;\n",
              "      border-right-color: var(--fill-color);\n",
              "      border-bottom-color: var(--fill-color);\n",
              "    }\n",
              "    90% {\n",
              "      border-color: transparent;\n",
              "      border-bottom-color: var(--fill-color);\n",
              "    }\n",
              "  }\n",
              "</style>\n",
              "\n",
              "  <script>\n",
              "    async function quickchart(key) {\n",
              "      const quickchartButtonEl =\n",
              "        document.querySelector('#' + key + ' button');\n",
              "      quickchartButtonEl.disabled = true;  // To prevent multiple clicks.\n",
              "      quickchartButtonEl.classList.add('colab-df-spinner');\n",
              "      try {\n",
              "        const charts = await google.colab.kernel.invokeFunction(\n",
              "            'suggestCharts', [key], {});\n",
              "      } catch (error) {\n",
              "        console.error('Error during call to suggestCharts:', error);\n",
              "      }\n",
              "      quickchartButtonEl.classList.remove('colab-df-spinner');\n",
              "      quickchartButtonEl.classList.add('colab-df-quickchart-complete');\n",
              "    }\n",
              "    (() => {\n",
              "      let quickchartButtonEl =\n",
              "        document.querySelector('#df-6be26f46-df41-4fb7-9696-15fcf0c6d384 button');\n",
              "      quickchartButtonEl.style.display =\n",
              "        google.colab.kernel.accessAllowed ? 'block' : 'none';\n",
              "    })();\n",
              "  </script>\n",
              "</div>\n",
              "\n",
              "  <div id=\"id_7743f05e-f3ab-46ad-b0ac-478b33e3a44e\">\n",
              "    <style>\n",
              "      .colab-df-generate {\n",
              "        background-color: #E8F0FE;\n",
              "        border: none;\n",
              "        border-radius: 50%;\n",
              "        cursor: pointer;\n",
              "        display: none;\n",
              "        fill: #1967D2;\n",
              "        height: 32px;\n",
              "        padding: 0 0 0 0;\n",
              "        width: 32px;\n",
              "      }\n",
              "\n",
              "      .colab-df-generate:hover {\n",
              "        background-color: #E2EBFA;\n",
              "        box-shadow: 0px 1px 2px rgba(60, 64, 67, 0.3), 0px 1px 3px 1px rgba(60, 64, 67, 0.15);\n",
              "        fill: #174EA6;\n",
              "      }\n",
              "\n",
              "      [theme=dark] .colab-df-generate {\n",
              "        background-color: #3B4455;\n",
              "        fill: #D2E3FC;\n",
              "      }\n",
              "\n",
              "      [theme=dark] .colab-df-generate:hover {\n",
              "        background-color: #434B5C;\n",
              "        box-shadow: 0px 1px 3px 1px rgba(0, 0, 0, 0.15);\n",
              "        filter: drop-shadow(0px 1px 2px rgba(0, 0, 0, 0.3));\n",
              "        fill: #FFFFFF;\n",
              "      }\n",
              "    </style>\n",
              "    <button class=\"colab-df-generate\" onclick=\"generateWithVariable('df')\"\n",
              "            title=\"Generate code using this dataframe.\"\n",
              "            style=\"display:none;\">\n",
              "\n",
              "  <svg xmlns=\"http://www.w3.org/2000/svg\" height=\"24px\"viewBox=\"0 0 24 24\"\n",
              "       width=\"24px\">\n",
              "    <path d=\"M7,19H8.4L18.45,9,17,7.55,7,17.6ZM5,21V16.75L18.45,3.32a2,2,0,0,1,2.83,0l1.4,1.43a1.91,1.91,0,0,1,.58,1.4,1.91,1.91,0,0,1-.58,1.4L9.25,21ZM18.45,9,17,7.55Zm-12,3A5.31,5.31,0,0,0,4.9,8.1,5.31,5.31,0,0,0,1,6.5,5.31,5.31,0,0,0,4.9,4.9,5.31,5.31,0,0,0,6.5,1,5.31,5.31,0,0,0,8.1,4.9,5.31,5.31,0,0,0,12,6.5,5.46,5.46,0,0,0,6.5,12Z\"/>\n",
              "  </svg>\n",
              "    </button>\n",
              "    <script>\n",
              "      (() => {\n",
              "      const buttonEl =\n",
              "        document.querySelector('#id_7743f05e-f3ab-46ad-b0ac-478b33e3a44e button.colab-df-generate');\n",
              "      buttonEl.style.display =\n",
              "        google.colab.kernel.accessAllowed ? 'block' : 'none';\n",
              "\n",
              "      buttonEl.onclick = () => {\n",
              "        google.colab.notebook.generateWithVariable('df');\n",
              "      }\n",
              "      })();\n",
              "    </script>\n",
              "  </div>\n",
              "\n",
              "    </div>\n",
              "  </div>\n"
            ]
          },
          "metadata": {},
          "execution_count": 20
        }
      ],
      "source": [
        "df"
      ]
    },
    {
      "cell_type": "markdown",
      "id": "5a1ba81e",
      "metadata": {
        "id": "5a1ba81e"
      },
      "source": [
        "#### Replacing punctuations\n",
        "\n",
        "\n"
      ]
    },
    {
      "cell_type": "code",
      "execution_count": 21,
      "id": "1d9fc80d",
      "metadata": {
        "id": "1d9fc80d"
      },
      "outputs": [],
      "source": [
        "df['news_processed'] = df['News'].str.replace(r'[^a-zA-Z0-9\\s]', '', regex=True)\n"
      ]
    },
    {
      "cell_type": "code",
      "execution_count": 22,
      "id": "56003fa8",
      "metadata": {
        "colab": {
          "base_uri": "https://localhost:8080/"
        },
        "id": "56003fa8",
        "outputId": "b87f4dc0-69d8-42a4-fe69-6fc177632fbc"
      },
      "outputs": [
        {
          "output_type": "execute_result",
          "data": {
            "text/plain": [
              "News              0\n",
              "Topic             0\n",
              "news_processed    0\n",
              "dtype: int64"
            ]
          },
          "metadata": {},
          "execution_count": 22
        }
      ],
      "source": [
        "df.isnull().sum()"
      ]
    },
    {
      "cell_type": "markdown",
      "id": "0dd52b73",
      "metadata": {
        "id": "0dd52b73"
      },
      "source": [
        "#### Replacing small words"
      ]
    },
    {
      "cell_type": "code",
      "execution_count": 23,
      "id": "332b8460",
      "metadata": {
        "id": "332b8460"
      },
      "outputs": [],
      "source": [
        "df['news_processed'] = df['news_processed'].apply(lambda row : ' '.join(word for word in row.split() if len(word)>2))"
      ]
    },
    {
      "cell_type": "code",
      "execution_count": 24,
      "id": "66af9e8e",
      "metadata": {
        "colab": {
          "base_uri": "https://localhost:8080/"
        },
        "id": "66af9e8e",
        "outputId": "e79caf6f-fb75-4228-8ebd-4ba2f000780a"
      },
      "outputs": [
        {
          "output_type": "execute_result",
          "data": {
            "text/plain": [
              "0"
            ]
          },
          "metadata": {},
          "execution_count": 24
        }
      ],
      "source": [
        "df.Topic.isnull().sum()"
      ]
    },
    {
      "cell_type": "code",
      "execution_count": 25,
      "id": "06b5b274",
      "metadata": {
        "id": "06b5b274"
      },
      "outputs": [],
      "source": [
        "df['news_processed'] = [row.lower() for row in df['news_processed']]"
      ]
    },
    {
      "cell_type": "code",
      "execution_count": 26,
      "id": "a67f99de",
      "metadata": {
        "colab": {
          "base_uri": "https://localhost:8080/",
          "height": 424
        },
        "id": "a67f99de",
        "outputId": "c32be871-7a7f-4c98-b148-6693e4b596b6"
      },
      "outputs": [
        {
          "output_type": "execute_result",
          "data": {
            "text/plain": [
              "                                                  News               Topic  \\\n",
              "0    ‘Battle against time’ to find quake survivors ...               world   \n",
              "1    Scenes of devastation emerged along Japan’s we...               world   \n",
              "2    South Korean opposition leader conscious after...               world   \n",
              "3    South Korea’s main opposition party leader Lee...               world   \n",
              "4    Denmark’s Crown Princess Mary to become first ...               world   \n",
              "..                                                 ...                 ...   \n",
              "607   Dharmatic Entertainment, which produces OTT c...  entertainment-news   \n",
              "608  ​A Ranjith Cinema: A Failed Experiment With Truth  entertainment-news   \n",
              "609   The title is a bit of a misnomer. However,A R...  entertainment-news   \n",
              "610  The Crown's Luther Ford Reveals Who Pushed Him...  entertainment-news   \n",
              "611   InThe Crown Season 6Part 2, the Peter Morgan ...  entertainment-news   \n",
              "\n",
              "                                        news_processed  \n",
              "0    battle against time find quake survivors japan...  \n",
              "1    scenes devastation emerged along japans wester...  \n",
              "2    south korean opposition leader conscious after...  \n",
              "3    south koreas main opposition party leader lee ...  \n",
              "4    denmarks crown princess mary become first aust...  \n",
              "..                                                 ...  \n",
              "607  dharmatic entertainment which produces ott con...  \n",
              "608        ranjith cinema failed experiment with truth  \n",
              "609  the title bit misnomer howevera ranjith cinema...  \n",
              "610  the crowns luther ford reveals who pushed him ...  \n",
              "611  inthe crown season 6part the peter morgan seri...  \n",
              "\n",
              "[612 rows x 3 columns]"
            ],
            "text/html": [
              "\n",
              "  <div id=\"df-e3b9605c-dd46-4b18-a8b1-1573a2e6597f\" class=\"colab-df-container\">\n",
              "    <div>\n",
              "<style scoped>\n",
              "    .dataframe tbody tr th:only-of-type {\n",
              "        vertical-align: middle;\n",
              "    }\n",
              "\n",
              "    .dataframe tbody tr th {\n",
              "        vertical-align: top;\n",
              "    }\n",
              "\n",
              "    .dataframe thead th {\n",
              "        text-align: right;\n",
              "    }\n",
              "</style>\n",
              "<table border=\"1\" class=\"dataframe\">\n",
              "  <thead>\n",
              "    <tr style=\"text-align: right;\">\n",
              "      <th></th>\n",
              "      <th>News</th>\n",
              "      <th>Topic</th>\n",
              "      <th>news_processed</th>\n",
              "    </tr>\n",
              "  </thead>\n",
              "  <tbody>\n",
              "    <tr>\n",
              "      <th>0</th>\n",
              "      <td>‘Battle against time’ to find quake survivors ...</td>\n",
              "      <td>world</td>\n",
              "      <td>battle against time find quake survivors japan...</td>\n",
              "    </tr>\n",
              "    <tr>\n",
              "      <th>1</th>\n",
              "      <td>Scenes of devastation emerged along Japan’s we...</td>\n",
              "      <td>world</td>\n",
              "      <td>scenes devastation emerged along japans wester...</td>\n",
              "    </tr>\n",
              "    <tr>\n",
              "      <th>2</th>\n",
              "      <td>South Korean opposition leader conscious after...</td>\n",
              "      <td>world</td>\n",
              "      <td>south korean opposition leader conscious after...</td>\n",
              "    </tr>\n",
              "    <tr>\n",
              "      <th>3</th>\n",
              "      <td>South Korea’s main opposition party leader Lee...</td>\n",
              "      <td>world</td>\n",
              "      <td>south koreas main opposition party leader lee ...</td>\n",
              "    </tr>\n",
              "    <tr>\n",
              "      <th>4</th>\n",
              "      <td>Denmark’s Crown Princess Mary to become first ...</td>\n",
              "      <td>world</td>\n",
              "      <td>denmarks crown princess mary become first aust...</td>\n",
              "    </tr>\n",
              "    <tr>\n",
              "      <th>...</th>\n",
              "      <td>...</td>\n",
              "      <td>...</td>\n",
              "      <td>...</td>\n",
              "    </tr>\n",
              "    <tr>\n",
              "      <th>607</th>\n",
              "      <td>Dharmatic Entertainment, which produces OTT c...</td>\n",
              "      <td>entertainment-news</td>\n",
              "      <td>dharmatic entertainment which produces ott con...</td>\n",
              "    </tr>\n",
              "    <tr>\n",
              "      <th>608</th>\n",
              "      <td>​A Ranjith Cinema: A Failed Experiment With Truth</td>\n",
              "      <td>entertainment-news</td>\n",
              "      <td>ranjith cinema failed experiment with truth</td>\n",
              "    </tr>\n",
              "    <tr>\n",
              "      <th>609</th>\n",
              "      <td>The title is a bit of a misnomer. However,A R...</td>\n",
              "      <td>entertainment-news</td>\n",
              "      <td>the title bit misnomer howevera ranjith cinema...</td>\n",
              "    </tr>\n",
              "    <tr>\n",
              "      <th>610</th>\n",
              "      <td>The Crown's Luther Ford Reveals Who Pushed Him...</td>\n",
              "      <td>entertainment-news</td>\n",
              "      <td>the crowns luther ford reveals who pushed him ...</td>\n",
              "    </tr>\n",
              "    <tr>\n",
              "      <th>611</th>\n",
              "      <td>InThe Crown Season 6Part 2, the Peter Morgan ...</td>\n",
              "      <td>entertainment-news</td>\n",
              "      <td>inthe crown season 6part the peter morgan seri...</td>\n",
              "    </tr>\n",
              "  </tbody>\n",
              "</table>\n",
              "<p>612 rows × 3 columns</p>\n",
              "</div>\n",
              "    <div class=\"colab-df-buttons\">\n",
              "\n",
              "  <div class=\"colab-df-container\">\n",
              "    <button class=\"colab-df-convert\" onclick=\"convertToInteractive('df-e3b9605c-dd46-4b18-a8b1-1573a2e6597f')\"\n",
              "            title=\"Convert this dataframe to an interactive table.\"\n",
              "            style=\"display:none;\">\n",
              "\n",
              "  <svg xmlns=\"http://www.w3.org/2000/svg\" height=\"24px\" viewBox=\"0 -960 960 960\">\n",
              "    <path d=\"M120-120v-720h720v720H120Zm60-500h600v-160H180v160Zm220 220h160v-160H400v160Zm0 220h160v-160H400v160ZM180-400h160v-160H180v160Zm440 0h160v-160H620v160ZM180-180h160v-160H180v160Zm440 0h160v-160H620v160Z\"/>\n",
              "  </svg>\n",
              "    </button>\n",
              "\n",
              "  <style>\n",
              "    .colab-df-container {\n",
              "      display:flex;\n",
              "      gap: 12px;\n",
              "    }\n",
              "\n",
              "    .colab-df-convert {\n",
              "      background-color: #E8F0FE;\n",
              "      border: none;\n",
              "      border-radius: 50%;\n",
              "      cursor: pointer;\n",
              "      display: none;\n",
              "      fill: #1967D2;\n",
              "      height: 32px;\n",
              "      padding: 0 0 0 0;\n",
              "      width: 32px;\n",
              "    }\n",
              "\n",
              "    .colab-df-convert:hover {\n",
              "      background-color: #E2EBFA;\n",
              "      box-shadow: 0px 1px 2px rgba(60, 64, 67, 0.3), 0px 1px 3px 1px rgba(60, 64, 67, 0.15);\n",
              "      fill: #174EA6;\n",
              "    }\n",
              "\n",
              "    .colab-df-buttons div {\n",
              "      margin-bottom: 4px;\n",
              "    }\n",
              "\n",
              "    [theme=dark] .colab-df-convert {\n",
              "      background-color: #3B4455;\n",
              "      fill: #D2E3FC;\n",
              "    }\n",
              "\n",
              "    [theme=dark] .colab-df-convert:hover {\n",
              "      background-color: #434B5C;\n",
              "      box-shadow: 0px 1px 3px 1px rgba(0, 0, 0, 0.15);\n",
              "      filter: drop-shadow(0px 1px 2px rgba(0, 0, 0, 0.3));\n",
              "      fill: #FFFFFF;\n",
              "    }\n",
              "  </style>\n",
              "\n",
              "    <script>\n",
              "      const buttonEl =\n",
              "        document.querySelector('#df-e3b9605c-dd46-4b18-a8b1-1573a2e6597f button.colab-df-convert');\n",
              "      buttonEl.style.display =\n",
              "        google.colab.kernel.accessAllowed ? 'block' : 'none';\n",
              "\n",
              "      async function convertToInteractive(key) {\n",
              "        const element = document.querySelector('#df-e3b9605c-dd46-4b18-a8b1-1573a2e6597f');\n",
              "        const dataTable =\n",
              "          await google.colab.kernel.invokeFunction('convertToInteractive',\n",
              "                                                    [key], {});\n",
              "        if (!dataTable) return;\n",
              "\n",
              "        const docLinkHtml = 'Like what you see? Visit the ' +\n",
              "          '<a target=\"_blank\" href=https://colab.research.google.com/notebooks/data_table.ipynb>data table notebook</a>'\n",
              "          + ' to learn more about interactive tables.';\n",
              "        element.innerHTML = '';\n",
              "        dataTable['output_type'] = 'display_data';\n",
              "        await google.colab.output.renderOutput(dataTable, element);\n",
              "        const docLink = document.createElement('div');\n",
              "        docLink.innerHTML = docLinkHtml;\n",
              "        element.appendChild(docLink);\n",
              "      }\n",
              "    </script>\n",
              "  </div>\n",
              "\n",
              "\n",
              "<div id=\"df-bcbeba27-544f-4ced-81ed-1d1143209a8c\">\n",
              "  <button class=\"colab-df-quickchart\" onclick=\"quickchart('df-bcbeba27-544f-4ced-81ed-1d1143209a8c')\"\n",
              "            title=\"Suggest charts\"\n",
              "            style=\"display:none;\">\n",
              "\n",
              "<svg xmlns=\"http://www.w3.org/2000/svg\" height=\"24px\"viewBox=\"0 0 24 24\"\n",
              "     width=\"24px\">\n",
              "    <g>\n",
              "        <path d=\"M19 3H5c-1.1 0-2 .9-2 2v14c0 1.1.9 2 2 2h14c1.1 0 2-.9 2-2V5c0-1.1-.9-2-2-2zM9 17H7v-7h2v7zm4 0h-2V7h2v10zm4 0h-2v-4h2v4z\"/>\n",
              "    </g>\n",
              "</svg>\n",
              "  </button>\n",
              "\n",
              "<style>\n",
              "  .colab-df-quickchart {\n",
              "      --bg-color: #E8F0FE;\n",
              "      --fill-color: #1967D2;\n",
              "      --hover-bg-color: #E2EBFA;\n",
              "      --hover-fill-color: #174EA6;\n",
              "      --disabled-fill-color: #AAA;\n",
              "      --disabled-bg-color: #DDD;\n",
              "  }\n",
              "\n",
              "  [theme=dark] .colab-df-quickchart {\n",
              "      --bg-color: #3B4455;\n",
              "      --fill-color: #D2E3FC;\n",
              "      --hover-bg-color: #434B5C;\n",
              "      --hover-fill-color: #FFFFFF;\n",
              "      --disabled-bg-color: #3B4455;\n",
              "      --disabled-fill-color: #666;\n",
              "  }\n",
              "\n",
              "  .colab-df-quickchart {\n",
              "    background-color: var(--bg-color);\n",
              "    border: none;\n",
              "    border-radius: 50%;\n",
              "    cursor: pointer;\n",
              "    display: none;\n",
              "    fill: var(--fill-color);\n",
              "    height: 32px;\n",
              "    padding: 0;\n",
              "    width: 32px;\n",
              "  }\n",
              "\n",
              "  .colab-df-quickchart:hover {\n",
              "    background-color: var(--hover-bg-color);\n",
              "    box-shadow: 0 1px 2px rgba(60, 64, 67, 0.3), 0 1px 3px 1px rgba(60, 64, 67, 0.15);\n",
              "    fill: var(--button-hover-fill-color);\n",
              "  }\n",
              "\n",
              "  .colab-df-quickchart-complete:disabled,\n",
              "  .colab-df-quickchart-complete:disabled:hover {\n",
              "    background-color: var(--disabled-bg-color);\n",
              "    fill: var(--disabled-fill-color);\n",
              "    box-shadow: none;\n",
              "  }\n",
              "\n",
              "  .colab-df-spinner {\n",
              "    border: 2px solid var(--fill-color);\n",
              "    border-color: transparent;\n",
              "    border-bottom-color: var(--fill-color);\n",
              "    animation:\n",
              "      spin 1s steps(1) infinite;\n",
              "  }\n",
              "\n",
              "  @keyframes spin {\n",
              "    0% {\n",
              "      border-color: transparent;\n",
              "      border-bottom-color: var(--fill-color);\n",
              "      border-left-color: var(--fill-color);\n",
              "    }\n",
              "    20% {\n",
              "      border-color: transparent;\n",
              "      border-left-color: var(--fill-color);\n",
              "      border-top-color: var(--fill-color);\n",
              "    }\n",
              "    30% {\n",
              "      border-color: transparent;\n",
              "      border-left-color: var(--fill-color);\n",
              "      border-top-color: var(--fill-color);\n",
              "      border-right-color: var(--fill-color);\n",
              "    }\n",
              "    40% {\n",
              "      border-color: transparent;\n",
              "      border-right-color: var(--fill-color);\n",
              "      border-top-color: var(--fill-color);\n",
              "    }\n",
              "    60% {\n",
              "      border-color: transparent;\n",
              "      border-right-color: var(--fill-color);\n",
              "    }\n",
              "    80% {\n",
              "      border-color: transparent;\n",
              "      border-right-color: var(--fill-color);\n",
              "      border-bottom-color: var(--fill-color);\n",
              "    }\n",
              "    90% {\n",
              "      border-color: transparent;\n",
              "      border-bottom-color: var(--fill-color);\n",
              "    }\n",
              "  }\n",
              "</style>\n",
              "\n",
              "  <script>\n",
              "    async function quickchart(key) {\n",
              "      const quickchartButtonEl =\n",
              "        document.querySelector('#' + key + ' button');\n",
              "      quickchartButtonEl.disabled = true;  // To prevent multiple clicks.\n",
              "      quickchartButtonEl.classList.add('colab-df-spinner');\n",
              "      try {\n",
              "        const charts = await google.colab.kernel.invokeFunction(\n",
              "            'suggestCharts', [key], {});\n",
              "      } catch (error) {\n",
              "        console.error('Error during call to suggestCharts:', error);\n",
              "      }\n",
              "      quickchartButtonEl.classList.remove('colab-df-spinner');\n",
              "      quickchartButtonEl.classList.add('colab-df-quickchart-complete');\n",
              "    }\n",
              "    (() => {\n",
              "      let quickchartButtonEl =\n",
              "        document.querySelector('#df-bcbeba27-544f-4ced-81ed-1d1143209a8c button');\n",
              "      quickchartButtonEl.style.display =\n",
              "        google.colab.kernel.accessAllowed ? 'block' : 'none';\n",
              "    })();\n",
              "  </script>\n",
              "</div>\n",
              "\n",
              "  <div id=\"id_2deb5a1e-4231-4dc4-8085-865588d813bb\">\n",
              "    <style>\n",
              "      .colab-df-generate {\n",
              "        background-color: #E8F0FE;\n",
              "        border: none;\n",
              "        border-radius: 50%;\n",
              "        cursor: pointer;\n",
              "        display: none;\n",
              "        fill: #1967D2;\n",
              "        height: 32px;\n",
              "        padding: 0 0 0 0;\n",
              "        width: 32px;\n",
              "      }\n",
              "\n",
              "      .colab-df-generate:hover {\n",
              "        background-color: #E2EBFA;\n",
              "        box-shadow: 0px 1px 2px rgba(60, 64, 67, 0.3), 0px 1px 3px 1px rgba(60, 64, 67, 0.15);\n",
              "        fill: #174EA6;\n",
              "      }\n",
              "\n",
              "      [theme=dark] .colab-df-generate {\n",
              "        background-color: #3B4455;\n",
              "        fill: #D2E3FC;\n",
              "      }\n",
              "\n",
              "      [theme=dark] .colab-df-generate:hover {\n",
              "        background-color: #434B5C;\n",
              "        box-shadow: 0px 1px 3px 1px rgba(0, 0, 0, 0.15);\n",
              "        filter: drop-shadow(0px 1px 2px rgba(0, 0, 0, 0.3));\n",
              "        fill: #FFFFFF;\n",
              "      }\n",
              "    </style>\n",
              "    <button class=\"colab-df-generate\" onclick=\"generateWithVariable('df')\"\n",
              "            title=\"Generate code using this dataframe.\"\n",
              "            style=\"display:none;\">\n",
              "\n",
              "  <svg xmlns=\"http://www.w3.org/2000/svg\" height=\"24px\"viewBox=\"0 0 24 24\"\n",
              "       width=\"24px\">\n",
              "    <path d=\"M7,19H8.4L18.45,9,17,7.55,7,17.6ZM5,21V16.75L18.45,3.32a2,2,0,0,1,2.83,0l1.4,1.43a1.91,1.91,0,0,1,.58,1.4,1.91,1.91,0,0,1-.58,1.4L9.25,21ZM18.45,9,17,7.55Zm-12,3A5.31,5.31,0,0,0,4.9,8.1,5.31,5.31,0,0,0,1,6.5,5.31,5.31,0,0,0,4.9,4.9,5.31,5.31,0,0,0,6.5,1,5.31,5.31,0,0,0,8.1,4.9,5.31,5.31,0,0,0,12,6.5,5.46,5.46,0,0,0,6.5,12Z\"/>\n",
              "  </svg>\n",
              "    </button>\n",
              "    <script>\n",
              "      (() => {\n",
              "      const buttonEl =\n",
              "        document.querySelector('#id_2deb5a1e-4231-4dc4-8085-865588d813bb button.colab-df-generate');\n",
              "      buttonEl.style.display =\n",
              "        google.colab.kernel.accessAllowed ? 'block' : 'none';\n",
              "\n",
              "      buttonEl.onclick = () => {\n",
              "        google.colab.notebook.generateWithVariable('df');\n",
              "      }\n",
              "      })();\n",
              "    </script>\n",
              "  </div>\n",
              "\n",
              "    </div>\n",
              "  </div>\n"
            ]
          },
          "metadata": {},
          "execution_count": 26
        }
      ],
      "source": [
        "df"
      ]
    },
    {
      "cell_type": "code",
      "source": [
        "df.isnull().sum()"
      ],
      "metadata": {
        "id": "K7jdh-5KHAB6",
        "outputId": "a3b7d652-9b29-481a-b3bd-a65ccc1a8db2",
        "colab": {
          "base_uri": "https://localhost:8080/"
        }
      },
      "id": "K7jdh-5KHAB6",
      "execution_count": 27,
      "outputs": [
        {
          "output_type": "execute_result",
          "data": {
            "text/plain": [
              "News              0\n",
              "Topic             0\n",
              "news_processed    0\n",
              "dtype: int64"
            ]
          },
          "metadata": {},
          "execution_count": 27
        }
      ]
    },
    {
      "cell_type": "code",
      "source": [
        "df['Topic'] = df['Topic'].replace({'world':'world','sports':'sport','business-economy':'business','entertainment-news':'entertainment'})"
      ],
      "metadata": {
        "id": "JehbVnDHOB3b"
      },
      "id": "JehbVnDHOB3b",
      "execution_count": 28,
      "outputs": []
    },
    {
      "cell_type": "code",
      "source": [
        "df['Topic'].isnull().sum()"
      ],
      "metadata": {
        "id": "CpbdH_MhNYYB",
        "outputId": "f13cf3a6-4fb7-48fd-a0d2-91ced9780d4e",
        "colab": {
          "base_uri": "https://localhost:8080/"
        }
      },
      "id": "CpbdH_MhNYYB",
      "execution_count": 29,
      "outputs": [
        {
          "output_type": "execute_result",
          "data": {
            "text/plain": [
              "0"
            ]
          },
          "metadata": {},
          "execution_count": 29
        }
      ]
    },
    {
      "cell_type": "markdown",
      "id": "ab0263c8",
      "metadata": {
        "id": "ab0263c8"
      },
      "source": [
        "#### Stop word removal"
      ]
    },
    {
      "cell_type": "code",
      "execution_count": 30,
      "id": "2befbd48",
      "metadata": {
        "colab": {
          "base_uri": "https://localhost:8080/"
        },
        "id": "2befbd48",
        "outputId": "a620b7c4-0bbd-40cb-bcad-e99cb37a442e"
      },
      "outputs": [
        {
          "output_type": "stream",
          "name": "stderr",
          "text": [
            "[nltk_data] Downloading package punkt to /root/nltk_data...\n",
            "[nltk_data]   Package punkt is already up-to-date!\n",
            "[nltk_data] Downloading package stopwords to /root/nltk_data...\n",
            "[nltk_data]   Package stopwords is already up-to-date!\n"
          ]
        }
      ],
      "source": [
        "import nltk\n",
        "nltk.download('punkt')\n",
        "nltk.download('stopwords')\n",
        "from nltk.corpus import stopwords\n",
        "from nltk import word_tokenize\n",
        "stop_words = set(stopwords.words('english'))\n",
        "new_stopwords = set(['say', 'also', 'make', \"one\", 'take', 'get', 'like', 'go'])\n",
        "stop_words = stop_words.union(new_stopwords)\n",
        "def remove_stopwords(news):\n",
        "    review_tokenized = word_tokenize(news)\n",
        "    new_news = \" \".join([i for i in review_tokenized if i.lower() not in stop_words])\n",
        "    return new_news\n",
        "df['news_processed'] = [remove_stopwords(r) for r in df['news_processed']]"
      ]
    },
    {
      "cell_type": "code",
      "source": [],
      "metadata": {
        "id": "T__-NqeCw_l1"
      },
      "id": "T__-NqeCw_l1",
      "execution_count": 30,
      "outputs": []
    },
    {
      "cell_type": "code",
      "execution_count": 31,
      "id": "4bb49311",
      "metadata": {
        "colab": {
          "base_uri": "https://localhost:8080/"
        },
        "id": "4bb49311",
        "outputId": "b5e9beeb-7caf-42ea-d75b-c914ef5eccc7"
      },
      "outputs": [
        {
          "output_type": "stream",
          "name": "stdout",
          "text": [
            "yes\n"
          ]
        }
      ],
      "source": [
        "if 'say' in stop_words:\n",
        "  print('yes')"
      ]
    },
    {
      "cell_type": "markdown",
      "id": "cd47b9f1",
      "metadata": {
        "id": "cd47b9f1"
      },
      "source": [
        "#### Lemmatisation"
      ]
    },
    {
      "cell_type": "code",
      "execution_count": 32,
      "id": "74c52828",
      "metadata": {
        "colab": {
          "base_uri": "https://localhost:8080/"
        },
        "id": "74c52828",
        "outputId": "85b66e3b-38ba-4ea3-acb0-561c51f527b4"
      },
      "outputs": [
        {
          "output_type": "stream",
          "name": "stderr",
          "text": [
            "[nltk_data] Downloading package wordnet to /root/nltk_data...\n",
            "[nltk_data]   Package wordnet is already up-to-date!\n",
            "[nltk_data] Downloading package omw-1.4 to /root/nltk_data...\n",
            "[nltk_data]   Package omw-1.4 is already up-to-date!\n",
            "[nltk_data] Downloading package averaged_perceptron_tagger to\n",
            "[nltk_data]     /root/nltk_data...\n",
            "[nltk_data]   Package averaged_perceptron_tagger is already up-to-\n",
            "[nltk_data]       date!\n"
          ]
        }
      ],
      "source": [
        "nltk.download('wordnet')\n",
        "nltk.download('omw-1.4')\n",
        "nltk.download('averaged_perceptron_tagger')\n",
        "from nltk.stem import WordNetLemmatizer\n",
        "from nltk.corpus import wordnet\n",
        "lemmatizer = WordNetLemmatizer()"
      ]
    },
    {
      "cell_type": "code",
      "execution_count": 33,
      "id": "df6b018c",
      "metadata": {
        "id": "df6b018c"
      },
      "outputs": [],
      "source": [
        "def nltk_to_wordnet(nltk_tag):\n",
        "    if nltk_tag.startswith('J'):\n",
        "        return wordnet.ADJ\n",
        "    elif nltk_tag.startswith('V'):\n",
        "        return wordnet.VERB\n",
        "    elif nltk_tag.startswith('N'):\n",
        "        return wordnet.NOUN\n",
        "    elif nltk_tag.startswith('R'):\n",
        "        return wordnet.ADV\n",
        "    else:\n",
        "        return None"
      ]
    },
    {
      "cell_type": "code",
      "execution_count": 34,
      "id": "53165a46",
      "metadata": {
        "id": "53165a46"
      },
      "outputs": [],
      "source": [
        "def lemmatize(sentence):\n",
        "    nltk_tagged = nltk.pos_tag(nltk.word_tokenize(sentence))\n",
        "    wordnet_tag = map(lambda x : (x[0],nltk_to_wordnet(x[1])),nltk_tagged)\n",
        "    lem_sentence = []\n",
        "    for word,tag in wordnet_tag:\n",
        "        if tag is None:\n",
        "            lem_sentence.append(word)\n",
        "        else:\n",
        "            lem_sentence.append(lemmatizer.lemmatize(word,tag))\n",
        "    return ' '.join(lem_sentence)"
      ]
    },
    {
      "cell_type": "code",
      "execution_count": 35,
      "id": "ca09c73e",
      "metadata": {
        "id": "ca09c73e"
      },
      "outputs": [],
      "source": [
        "df['news_processed'] = df['news_processed'].apply(lemmatize)"
      ]
    },
    {
      "cell_type": "code",
      "execution_count": 36,
      "id": "9fd5ef97",
      "metadata": {
        "colab": {
          "base_uri": "https://localhost:8080/",
          "height": 424
        },
        "id": "9fd5ef97",
        "outputId": "c06a2ecc-1133-4d55-a8e6-48127cb8559f"
      },
      "outputs": [
        {
          "output_type": "execute_result",
          "data": {
            "text/plain": [
              "                                                  News          Topic  \\\n",
              "0    ‘Battle against time’ to find quake survivors ...          world   \n",
              "1    Scenes of devastation emerged along Japan’s we...          world   \n",
              "2    South Korean opposition leader conscious after...          world   \n",
              "3    South Korea’s main opposition party leader Lee...          world   \n",
              "4    Denmark’s Crown Princess Mary to become first ...          world   \n",
              "..                                                 ...            ...   \n",
              "607   Dharmatic Entertainment, which produces OTT c...  entertainment   \n",
              "608  ​A Ranjith Cinema: A Failed Experiment With Truth  entertainment   \n",
              "609   The title is a bit of a misnomer. However,A R...  entertainment   \n",
              "610  The Crown's Luther Ford Reveals Who Pushed Him...  entertainment   \n",
              "611   InThe Crown Season 6Part 2, the Peter Morgan ...  entertainment   \n",
              "\n",
              "                                        news_processed  \n",
              "0    battle time find quake survivor japan lift tsu...  \n",
              "1    scene devastation emerge along japans western ...  \n",
              "2    south korean opposition leader conscious stab ...  \n",
              "3    south korea main opposition party leader lee j...  \n",
              "4    denmark crown princess mary become first austr...  \n",
              "..                                                 ...  \n",
              "607  dharmatic entertainment produce ott content ka...  \n",
              "608               ranjith cinema fail experiment truth  \n",
              "609  title bit misnomer howevera ranjith cinemasic ...  \n",
              "610  crown luther ford reveals push audition prince...  \n",
              "611  inthe crown season 6part peter morgan series d...  \n",
              "\n",
              "[612 rows x 3 columns]"
            ],
            "text/html": [
              "\n",
              "  <div id=\"df-1564563b-b53f-49ce-92c1-955240a5e90a\" class=\"colab-df-container\">\n",
              "    <div>\n",
              "<style scoped>\n",
              "    .dataframe tbody tr th:only-of-type {\n",
              "        vertical-align: middle;\n",
              "    }\n",
              "\n",
              "    .dataframe tbody tr th {\n",
              "        vertical-align: top;\n",
              "    }\n",
              "\n",
              "    .dataframe thead th {\n",
              "        text-align: right;\n",
              "    }\n",
              "</style>\n",
              "<table border=\"1\" class=\"dataframe\">\n",
              "  <thead>\n",
              "    <tr style=\"text-align: right;\">\n",
              "      <th></th>\n",
              "      <th>News</th>\n",
              "      <th>Topic</th>\n",
              "      <th>news_processed</th>\n",
              "    </tr>\n",
              "  </thead>\n",
              "  <tbody>\n",
              "    <tr>\n",
              "      <th>0</th>\n",
              "      <td>‘Battle against time’ to find quake survivors ...</td>\n",
              "      <td>world</td>\n",
              "      <td>battle time find quake survivor japan lift tsu...</td>\n",
              "    </tr>\n",
              "    <tr>\n",
              "      <th>1</th>\n",
              "      <td>Scenes of devastation emerged along Japan’s we...</td>\n",
              "      <td>world</td>\n",
              "      <td>scene devastation emerge along japans western ...</td>\n",
              "    </tr>\n",
              "    <tr>\n",
              "      <th>2</th>\n",
              "      <td>South Korean opposition leader conscious after...</td>\n",
              "      <td>world</td>\n",
              "      <td>south korean opposition leader conscious stab ...</td>\n",
              "    </tr>\n",
              "    <tr>\n",
              "      <th>3</th>\n",
              "      <td>South Korea’s main opposition party leader Lee...</td>\n",
              "      <td>world</td>\n",
              "      <td>south korea main opposition party leader lee j...</td>\n",
              "    </tr>\n",
              "    <tr>\n",
              "      <th>4</th>\n",
              "      <td>Denmark’s Crown Princess Mary to become first ...</td>\n",
              "      <td>world</td>\n",
              "      <td>denmark crown princess mary become first austr...</td>\n",
              "    </tr>\n",
              "    <tr>\n",
              "      <th>...</th>\n",
              "      <td>...</td>\n",
              "      <td>...</td>\n",
              "      <td>...</td>\n",
              "    </tr>\n",
              "    <tr>\n",
              "      <th>607</th>\n",
              "      <td>Dharmatic Entertainment, which produces OTT c...</td>\n",
              "      <td>entertainment</td>\n",
              "      <td>dharmatic entertainment produce ott content ka...</td>\n",
              "    </tr>\n",
              "    <tr>\n",
              "      <th>608</th>\n",
              "      <td>​A Ranjith Cinema: A Failed Experiment With Truth</td>\n",
              "      <td>entertainment</td>\n",
              "      <td>ranjith cinema fail experiment truth</td>\n",
              "    </tr>\n",
              "    <tr>\n",
              "      <th>609</th>\n",
              "      <td>The title is a bit of a misnomer. However,A R...</td>\n",
              "      <td>entertainment</td>\n",
              "      <td>title bit misnomer howevera ranjith cinemasic ...</td>\n",
              "    </tr>\n",
              "    <tr>\n",
              "      <th>610</th>\n",
              "      <td>The Crown's Luther Ford Reveals Who Pushed Him...</td>\n",
              "      <td>entertainment</td>\n",
              "      <td>crown luther ford reveals push audition prince...</td>\n",
              "    </tr>\n",
              "    <tr>\n",
              "      <th>611</th>\n",
              "      <td>InThe Crown Season 6Part 2, the Peter Morgan ...</td>\n",
              "      <td>entertainment</td>\n",
              "      <td>inthe crown season 6part peter morgan series d...</td>\n",
              "    </tr>\n",
              "  </tbody>\n",
              "</table>\n",
              "<p>612 rows × 3 columns</p>\n",
              "</div>\n",
              "    <div class=\"colab-df-buttons\">\n",
              "\n",
              "  <div class=\"colab-df-container\">\n",
              "    <button class=\"colab-df-convert\" onclick=\"convertToInteractive('df-1564563b-b53f-49ce-92c1-955240a5e90a')\"\n",
              "            title=\"Convert this dataframe to an interactive table.\"\n",
              "            style=\"display:none;\">\n",
              "\n",
              "  <svg xmlns=\"http://www.w3.org/2000/svg\" height=\"24px\" viewBox=\"0 -960 960 960\">\n",
              "    <path d=\"M120-120v-720h720v720H120Zm60-500h600v-160H180v160Zm220 220h160v-160H400v160Zm0 220h160v-160H400v160ZM180-400h160v-160H180v160Zm440 0h160v-160H620v160ZM180-180h160v-160H180v160Zm440 0h160v-160H620v160Z\"/>\n",
              "  </svg>\n",
              "    </button>\n",
              "\n",
              "  <style>\n",
              "    .colab-df-container {\n",
              "      display:flex;\n",
              "      gap: 12px;\n",
              "    }\n",
              "\n",
              "    .colab-df-convert {\n",
              "      background-color: #E8F0FE;\n",
              "      border: none;\n",
              "      border-radius: 50%;\n",
              "      cursor: pointer;\n",
              "      display: none;\n",
              "      fill: #1967D2;\n",
              "      height: 32px;\n",
              "      padding: 0 0 0 0;\n",
              "      width: 32px;\n",
              "    }\n",
              "\n",
              "    .colab-df-convert:hover {\n",
              "      background-color: #E2EBFA;\n",
              "      box-shadow: 0px 1px 2px rgba(60, 64, 67, 0.3), 0px 1px 3px 1px rgba(60, 64, 67, 0.15);\n",
              "      fill: #174EA6;\n",
              "    }\n",
              "\n",
              "    .colab-df-buttons div {\n",
              "      margin-bottom: 4px;\n",
              "    }\n",
              "\n",
              "    [theme=dark] .colab-df-convert {\n",
              "      background-color: #3B4455;\n",
              "      fill: #D2E3FC;\n",
              "    }\n",
              "\n",
              "    [theme=dark] .colab-df-convert:hover {\n",
              "      background-color: #434B5C;\n",
              "      box-shadow: 0px 1px 3px 1px rgba(0, 0, 0, 0.15);\n",
              "      filter: drop-shadow(0px 1px 2px rgba(0, 0, 0, 0.3));\n",
              "      fill: #FFFFFF;\n",
              "    }\n",
              "  </style>\n",
              "\n",
              "    <script>\n",
              "      const buttonEl =\n",
              "        document.querySelector('#df-1564563b-b53f-49ce-92c1-955240a5e90a button.colab-df-convert');\n",
              "      buttonEl.style.display =\n",
              "        google.colab.kernel.accessAllowed ? 'block' : 'none';\n",
              "\n",
              "      async function convertToInteractive(key) {\n",
              "        const element = document.querySelector('#df-1564563b-b53f-49ce-92c1-955240a5e90a');\n",
              "        const dataTable =\n",
              "          await google.colab.kernel.invokeFunction('convertToInteractive',\n",
              "                                                    [key], {});\n",
              "        if (!dataTable) return;\n",
              "\n",
              "        const docLinkHtml = 'Like what you see? Visit the ' +\n",
              "          '<a target=\"_blank\" href=https://colab.research.google.com/notebooks/data_table.ipynb>data table notebook</a>'\n",
              "          + ' to learn more about interactive tables.';\n",
              "        element.innerHTML = '';\n",
              "        dataTable['output_type'] = 'display_data';\n",
              "        await google.colab.output.renderOutput(dataTable, element);\n",
              "        const docLink = document.createElement('div');\n",
              "        docLink.innerHTML = docLinkHtml;\n",
              "        element.appendChild(docLink);\n",
              "      }\n",
              "    </script>\n",
              "  </div>\n",
              "\n",
              "\n",
              "<div id=\"df-052f08d7-186a-4096-8352-7047698a96ff\">\n",
              "  <button class=\"colab-df-quickchart\" onclick=\"quickchart('df-052f08d7-186a-4096-8352-7047698a96ff')\"\n",
              "            title=\"Suggest charts\"\n",
              "            style=\"display:none;\">\n",
              "\n",
              "<svg xmlns=\"http://www.w3.org/2000/svg\" height=\"24px\"viewBox=\"0 0 24 24\"\n",
              "     width=\"24px\">\n",
              "    <g>\n",
              "        <path d=\"M19 3H5c-1.1 0-2 .9-2 2v14c0 1.1.9 2 2 2h14c1.1 0 2-.9 2-2V5c0-1.1-.9-2-2-2zM9 17H7v-7h2v7zm4 0h-2V7h2v10zm4 0h-2v-4h2v4z\"/>\n",
              "    </g>\n",
              "</svg>\n",
              "  </button>\n",
              "\n",
              "<style>\n",
              "  .colab-df-quickchart {\n",
              "      --bg-color: #E8F0FE;\n",
              "      --fill-color: #1967D2;\n",
              "      --hover-bg-color: #E2EBFA;\n",
              "      --hover-fill-color: #174EA6;\n",
              "      --disabled-fill-color: #AAA;\n",
              "      --disabled-bg-color: #DDD;\n",
              "  }\n",
              "\n",
              "  [theme=dark] .colab-df-quickchart {\n",
              "      --bg-color: #3B4455;\n",
              "      --fill-color: #D2E3FC;\n",
              "      --hover-bg-color: #434B5C;\n",
              "      --hover-fill-color: #FFFFFF;\n",
              "      --disabled-bg-color: #3B4455;\n",
              "      --disabled-fill-color: #666;\n",
              "  }\n",
              "\n",
              "  .colab-df-quickchart {\n",
              "    background-color: var(--bg-color);\n",
              "    border: none;\n",
              "    border-radius: 50%;\n",
              "    cursor: pointer;\n",
              "    display: none;\n",
              "    fill: var(--fill-color);\n",
              "    height: 32px;\n",
              "    padding: 0;\n",
              "    width: 32px;\n",
              "  }\n",
              "\n",
              "  .colab-df-quickchart:hover {\n",
              "    background-color: var(--hover-bg-color);\n",
              "    box-shadow: 0 1px 2px rgba(60, 64, 67, 0.3), 0 1px 3px 1px rgba(60, 64, 67, 0.15);\n",
              "    fill: var(--button-hover-fill-color);\n",
              "  }\n",
              "\n",
              "  .colab-df-quickchart-complete:disabled,\n",
              "  .colab-df-quickchart-complete:disabled:hover {\n",
              "    background-color: var(--disabled-bg-color);\n",
              "    fill: var(--disabled-fill-color);\n",
              "    box-shadow: none;\n",
              "  }\n",
              "\n",
              "  .colab-df-spinner {\n",
              "    border: 2px solid var(--fill-color);\n",
              "    border-color: transparent;\n",
              "    border-bottom-color: var(--fill-color);\n",
              "    animation:\n",
              "      spin 1s steps(1) infinite;\n",
              "  }\n",
              "\n",
              "  @keyframes spin {\n",
              "    0% {\n",
              "      border-color: transparent;\n",
              "      border-bottom-color: var(--fill-color);\n",
              "      border-left-color: var(--fill-color);\n",
              "    }\n",
              "    20% {\n",
              "      border-color: transparent;\n",
              "      border-left-color: var(--fill-color);\n",
              "      border-top-color: var(--fill-color);\n",
              "    }\n",
              "    30% {\n",
              "      border-color: transparent;\n",
              "      border-left-color: var(--fill-color);\n",
              "      border-top-color: var(--fill-color);\n",
              "      border-right-color: var(--fill-color);\n",
              "    }\n",
              "    40% {\n",
              "      border-color: transparent;\n",
              "      border-right-color: var(--fill-color);\n",
              "      border-top-color: var(--fill-color);\n",
              "    }\n",
              "    60% {\n",
              "      border-color: transparent;\n",
              "      border-right-color: var(--fill-color);\n",
              "    }\n",
              "    80% {\n",
              "      border-color: transparent;\n",
              "      border-right-color: var(--fill-color);\n",
              "      border-bottom-color: var(--fill-color);\n",
              "    }\n",
              "    90% {\n",
              "      border-color: transparent;\n",
              "      border-bottom-color: var(--fill-color);\n",
              "    }\n",
              "  }\n",
              "</style>\n",
              "\n",
              "  <script>\n",
              "    async function quickchart(key) {\n",
              "      const quickchartButtonEl =\n",
              "        document.querySelector('#' + key + ' button');\n",
              "      quickchartButtonEl.disabled = true;  // To prevent multiple clicks.\n",
              "      quickchartButtonEl.classList.add('colab-df-spinner');\n",
              "      try {\n",
              "        const charts = await google.colab.kernel.invokeFunction(\n",
              "            'suggestCharts', [key], {});\n",
              "      } catch (error) {\n",
              "        console.error('Error during call to suggestCharts:', error);\n",
              "      }\n",
              "      quickchartButtonEl.classList.remove('colab-df-spinner');\n",
              "      quickchartButtonEl.classList.add('colab-df-quickchart-complete');\n",
              "    }\n",
              "    (() => {\n",
              "      let quickchartButtonEl =\n",
              "        document.querySelector('#df-052f08d7-186a-4096-8352-7047698a96ff button');\n",
              "      quickchartButtonEl.style.display =\n",
              "        google.colab.kernel.accessAllowed ? 'block' : 'none';\n",
              "    })();\n",
              "  </script>\n",
              "</div>\n",
              "\n",
              "  <div id=\"id_aa352e8b-2302-4ce4-9a11-93384c5a6b81\">\n",
              "    <style>\n",
              "      .colab-df-generate {\n",
              "        background-color: #E8F0FE;\n",
              "        border: none;\n",
              "        border-radius: 50%;\n",
              "        cursor: pointer;\n",
              "        display: none;\n",
              "        fill: #1967D2;\n",
              "        height: 32px;\n",
              "        padding: 0 0 0 0;\n",
              "        width: 32px;\n",
              "      }\n",
              "\n",
              "      .colab-df-generate:hover {\n",
              "        background-color: #E2EBFA;\n",
              "        box-shadow: 0px 1px 2px rgba(60, 64, 67, 0.3), 0px 1px 3px 1px rgba(60, 64, 67, 0.15);\n",
              "        fill: #174EA6;\n",
              "      }\n",
              "\n",
              "      [theme=dark] .colab-df-generate {\n",
              "        background-color: #3B4455;\n",
              "        fill: #D2E3FC;\n",
              "      }\n",
              "\n",
              "      [theme=dark] .colab-df-generate:hover {\n",
              "        background-color: #434B5C;\n",
              "        box-shadow: 0px 1px 3px 1px rgba(0, 0, 0, 0.15);\n",
              "        filter: drop-shadow(0px 1px 2px rgba(0, 0, 0, 0.3));\n",
              "        fill: #FFFFFF;\n",
              "      }\n",
              "    </style>\n",
              "    <button class=\"colab-df-generate\" onclick=\"generateWithVariable('df')\"\n",
              "            title=\"Generate code using this dataframe.\"\n",
              "            style=\"display:none;\">\n",
              "\n",
              "  <svg xmlns=\"http://www.w3.org/2000/svg\" height=\"24px\"viewBox=\"0 0 24 24\"\n",
              "       width=\"24px\">\n",
              "    <path d=\"M7,19H8.4L18.45,9,17,7.55,7,17.6ZM5,21V16.75L18.45,3.32a2,2,0,0,1,2.83,0l1.4,1.43a1.91,1.91,0,0,1,.58,1.4,1.91,1.91,0,0,1-.58,1.4L9.25,21ZM18.45,9,17,7.55Zm-12,3A5.31,5.31,0,0,0,4.9,8.1,5.31,5.31,0,0,0,1,6.5,5.31,5.31,0,0,0,4.9,4.9,5.31,5.31,0,0,0,6.5,1,5.31,5.31,0,0,0,8.1,4.9,5.31,5.31,0,0,0,12,6.5,5.46,5.46,0,0,0,6.5,12Z\"/>\n",
              "  </svg>\n",
              "    </button>\n",
              "    <script>\n",
              "      (() => {\n",
              "      const buttonEl =\n",
              "        document.querySelector('#id_aa352e8b-2302-4ce4-9a11-93384c5a6b81 button.colab-df-generate');\n",
              "      buttonEl.style.display =\n",
              "        google.colab.kernel.accessAllowed ? 'block' : 'none';\n",
              "\n",
              "      buttonEl.onclick = () => {\n",
              "        google.colab.notebook.generateWithVariable('df');\n",
              "      }\n",
              "      })();\n",
              "    </script>\n",
              "  </div>\n",
              "\n",
              "    </div>\n",
              "  </div>\n"
            ]
          },
          "metadata": {},
          "execution_count": 36
        }
      ],
      "source": [
        "df"
      ]
    },
    {
      "cell_type": "code",
      "source": [
        "import matplotlib.pyplot as plt\n",
        "from nltk import FreqDist\n",
        "%matplotlib inline"
      ],
      "metadata": {
        "id": "zOC4B0fLcvwG"
      },
      "id": "zOC4B0fLcvwG",
      "execution_count": 37,
      "outputs": []
    },
    {
      "cell_type": "code",
      "source": [
        "topics = ['world', 'entertainment', 'business', 'sport']"
      ],
      "metadata": {
        "id": "l2M-NOe27KqA"
      },
      "id": "l2M-NOe27KqA",
      "execution_count": 38,
      "outputs": []
    },
    {
      "cell_type": "code",
      "source": [
        "# df[df['Topic']==topic]['news_processed']"
      ],
      "metadata": {
        "id": "luPep1Wm7o4j"
      },
      "id": "luPep1Wm7o4j",
      "execution_count": 39,
      "outputs": []
    },
    {
      "cell_type": "code",
      "source": [],
      "metadata": {
        "id": "MGlObBUYdni6"
      },
      "id": "MGlObBUYdni6",
      "execution_count": 39,
      "outputs": []
    },
    {
      "cell_type": "code",
      "source": [],
      "metadata": {
        "id": "8mABfAr3d5gQ"
      },
      "id": "8mABfAr3d5gQ",
      "execution_count": 39,
      "outputs": []
    },
    {
      "cell_type": "code",
      "source": [
        "\n"
      ],
      "metadata": {
        "id": "kM0nM43jePkS"
      },
      "id": "kM0nM43jePkS",
      "execution_count": 39,
      "outputs": []
    },
    {
      "cell_type": "code",
      "source": [],
      "metadata": {
        "id": "Nddq71A4p9wf"
      },
      "id": "Nddq71A4p9wf",
      "execution_count": 39,
      "outputs": []
    },
    {
      "cell_type": "code",
      "source": [],
      "metadata": {
        "id": "f-ecZdq2qM1U"
      },
      "id": "f-ecZdq2qM1U",
      "execution_count": 39,
      "outputs": []
    },
    {
      "cell_type": "code",
      "source": [],
      "metadata": {
        "id": "NkUcjdrpeVfH"
      },
      "id": "NkUcjdrpeVfH",
      "execution_count": 39,
      "outputs": []
    },
    {
      "cell_type": "code",
      "source": [],
      "metadata": {
        "id": "lWA4kkLIfDfq"
      },
      "id": "lWA4kkLIfDfq",
      "execution_count": 39,
      "outputs": []
    },
    {
      "cell_type": "markdown",
      "id": "d5625180",
      "metadata": {
        "id": "d5625180"
      },
      "source": [
        "#### Word Embedding"
      ]
    },
    {
      "cell_type": "code",
      "execution_count": 40,
      "id": "ccd9b662",
      "metadata": {
        "id": "ccd9b662"
      },
      "outputs": [],
      "source": [
        "# pip install gensim\n",
        "from gensim.models import Word2Vec"
      ]
    },
    {
      "cell_type": "code",
      "execution_count": 41,
      "id": "1f19ab3b",
      "metadata": {
        "id": "1f19ab3b"
      },
      "outputs": [],
      "source": [
        "tokenized_data = [word_tokenize(sentence) for sentence in df['news_processed']]"
      ]
    },
    {
      "cell_type": "code",
      "execution_count": 42,
      "id": "2d24a22a",
      "metadata": {
        "colab": {
          "base_uri": "https://localhost:8080/"
        },
        "id": "2d24a22a",
        "outputId": "91c66bfa-2c00-456d-fce5-21bf1bcecb1f"
      },
      "outputs": [
        {
          "output_type": "execute_result",
          "data": {
            "text/plain": [
              "612"
            ]
          },
          "metadata": {},
          "execution_count": 42
        }
      ],
      "source": [
        "len(tokenized_data)"
      ]
    },
    {
      "cell_type": "code",
      "execution_count": 43,
      "id": "6af1ef1b",
      "metadata": {
        "id": "6af1ef1b"
      },
      "outputs": [],
      "source": [
        "model = Word2Vec(sentences=tokenized_data, vector_size=200, window=5, sg=0, min_count=1)"
      ]
    },
    {
      "cell_type": "code",
      "execution_count": 44,
      "id": "99583b4e",
      "metadata": {
        "id": "99583b4e"
      },
      "outputs": [],
      "source": [
        "numerical_data = []\n",
        "for sentence in tokenized_data:\n",
        "    sentence_vectors = [model.wv[word] for word in sentence if word in model.wv]\n",
        "    numerical_data.append(sentence_vectors)"
      ]
    },
    {
      "cell_type": "code",
      "execution_count": 45,
      "id": "94b51729",
      "metadata": {
        "id": "94b51729"
      },
      "outputs": [],
      "source": [
        "df['word2vec_representation'] = numerical_data\n"
      ]
    },
    {
      "cell_type": "code",
      "source": [
        "df['Topic'].value_counts()"
      ],
      "metadata": {
        "colab": {
          "base_uri": "https://localhost:8080/"
        },
        "id": "6nqbpALBiRAb",
        "outputId": "eefd71d4-865d-4268-a99e-cb1a79d19b97"
      },
      "id": "6nqbpALBiRAb",
      "execution_count": 46,
      "outputs": [
        {
          "output_type": "execute_result",
          "data": {
            "text/plain": [
              "entertainment    170\n",
              "world            164\n",
              "sport            140\n",
              "business         138\n",
              "Name: Topic, dtype: int64"
            ]
          },
          "metadata": {},
          "execution_count": 46
        }
      ]
    },
    {
      "cell_type": "code",
      "source": [
        "vectors = df['word2vec_representation'].values"
      ],
      "metadata": {
        "id": "kdlvrAiXutmI"
      },
      "id": "kdlvrAiXutmI",
      "execution_count": 47,
      "outputs": []
    },
    {
      "cell_type": "code",
      "source": [
        "df['word2vec_representation'] = [np.mean(article, axis=0) for article in vectors]"
      ],
      "metadata": {
        "id": "DMjF8BIUuyXo"
      },
      "id": "DMjF8BIUuyXo",
      "execution_count": 48,
      "outputs": []
    },
    {
      "cell_type": "code",
      "source": [
        "# for i in range(len(df)):\n",
        "#     if type(df['word2vec_representation'][i]) == type(np.array([])):\n",
        "#         df['word2vec_representation'][i] = np.mean(df['word2vec_representation'][i], axis=0)"
      ],
      "metadata": {
        "id": "qGo7oJcCGht6"
      },
      "id": "qGo7oJcCGht6",
      "execution_count": 49,
      "outputs": []
    },
    {
      "cell_type": "code",
      "source": [
        "# def vectorize(list_of_docs, model):\n",
        "#     \"\"\"Generate vectors for list of documents using a Word Embedding\n",
        "\n",
        "#     Args:\n",
        "#         list_of_docs: List of documents\n",
        "#         model: Gensim's Word Embedding\n",
        "\n",
        "#     Returns:\n",
        "#         List of document vectors\n",
        "#     \"\"\"\n",
        "#     features = []\n",
        "\n",
        "#     for tokens in list_of_docs:\n",
        "#         zero_vector = np.zeros(model.vector_size)\n",
        "#         vectors = []\n",
        "\n",
        "#         if vectors:\n",
        "#             vectors = np.asarray(vectors)\n",
        "#             avg_vec = vectors.mean(axis=0)\n",
        "#             features.append(avg_vec)\n",
        "#         else:\n",
        "#             features.append(zero_vector)\n",
        "#     return features\n",
        "\n",
        "# vectorized_docs = vectorize(vectors, model=model)\n",
        "# len(vectorized_docs), len(vectorized_docs[0])"
      ],
      "metadata": {
        "id": "R4rfacza3_ni"
      },
      "id": "R4rfacza3_ni",
      "execution_count": 50,
      "outputs": []
    },
    {
      "cell_type": "code",
      "source": [
        "model.wv.most_similar(\"israel\")"
      ],
      "metadata": {
        "colab": {
          "base_uri": "https://localhost:8080/"
        },
        "id": "H3xmBbIm4FBU",
        "outputId": "5cd1c611-a322-4c1a-b226-61ab3312db84"
      },
      "id": "H3xmBbIm4FBU",
      "execution_count": 51,
      "outputs": [
        {
          "output_type": "execute_result",
          "data": {
            "text/plain": [
              "[('accord', 0.9998918175697327),\n",
              " ('include', 0.9998874664306641),\n",
              " ('say', 0.9998814463615417),\n",
              " ('city', 0.9998807311058044),\n",
              " ('time', 0.9998759627342224),\n",
              " ('two', 0.9998754858970642),\n",
              " ('report', 0.9998742341995239),\n",
              " ('see', 0.9998679161071777),\n",
              " ('share', 0.9998667240142822),\n",
              " ('come', 0.9998653531074524)]"
            ]
          },
          "metadata": {},
          "execution_count": 51
        }
      ]
    },
    {
      "cell_type": "code",
      "source": [
        "df"
      ],
      "metadata": {
        "colab": {
          "base_uri": "https://localhost:8080/",
          "height": 424
        },
        "id": "pItJytr9J5ll",
        "outputId": "fe22729a-904e-4132-a6a6-5c74449de665"
      },
      "id": "pItJytr9J5ll",
      "execution_count": 52,
      "outputs": [
        {
          "output_type": "execute_result",
          "data": {
            "text/plain": [
              "                                                  News          Topic  \\\n",
              "0    ‘Battle against time’ to find quake survivors ...          world   \n",
              "1    Scenes of devastation emerged along Japan’s we...          world   \n",
              "2    South Korean opposition leader conscious after...          world   \n",
              "3    South Korea’s main opposition party leader Lee...          world   \n",
              "4    Denmark’s Crown Princess Mary to become first ...          world   \n",
              "..                                                 ...            ...   \n",
              "607   Dharmatic Entertainment, which produces OTT c...  entertainment   \n",
              "608  ​A Ranjith Cinema: A Failed Experiment With Truth  entertainment   \n",
              "609   The title is a bit of a misnomer. However,A R...  entertainment   \n",
              "610  The Crown's Luther Ford Reveals Who Pushed Him...  entertainment   \n",
              "611   InThe Crown Season 6Part 2, the Peter Morgan ...  entertainment   \n",
              "\n",
              "                                        news_processed  \\\n",
              "0    battle time find quake survivor japan lift tsu...   \n",
              "1    scene devastation emerge along japans western ...   \n",
              "2    south korean opposition leader conscious stab ...   \n",
              "3    south korea main opposition party leader lee j...   \n",
              "4    denmark crown princess mary become first austr...   \n",
              "..                                                 ...   \n",
              "607  dharmatic entertainment produce ott content ka...   \n",
              "608               ranjith cinema fail experiment truth   \n",
              "609  title bit misnomer howevera ranjith cinemasic ...   \n",
              "610  crown luther ford reveals push audition prince...   \n",
              "611  inthe crown season 6part peter morgan series d...   \n",
              "\n",
              "                               word2vec_representation  \n",
              "0    [0.09868876, 0.0031383287, 0.09891381, 0.18133...  \n",
              "1    [0.10078444, 0.0034007884, 0.10172553, 0.18559...  \n",
              "2    [0.08801686, 0.0012792752, 0.08629523, 0.15506...  \n",
              "3    [0.09002291, 0.0021016654, 0.09114499, 0.16483...  \n",
              "4    [0.11326799, 0.002031833, 0.111025736, 0.20036...  \n",
              "..                                                 ...  \n",
              "607  [0.08639129, 0.0023234866, 0.08631297, 0.15685...  \n",
              "608  [0.025679344, 0.0017707869, 0.024864566, 0.050...  \n",
              "609  [0.07250749, 0.0013814443, 0.07213596, 0.13158...  \n",
              "610  [0.050335854, 0.0019363868, 0.050815266, 0.092...  \n",
              "611  [0.10820095, 0.0031526047, 0.10810878, 0.19768...  \n",
              "\n",
              "[612 rows x 4 columns]"
            ],
            "text/html": [
              "\n",
              "  <div id=\"df-b478b163-d29f-4256-a597-47f99247b6d1\" class=\"colab-df-container\">\n",
              "    <div>\n",
              "<style scoped>\n",
              "    .dataframe tbody tr th:only-of-type {\n",
              "        vertical-align: middle;\n",
              "    }\n",
              "\n",
              "    .dataframe tbody tr th {\n",
              "        vertical-align: top;\n",
              "    }\n",
              "\n",
              "    .dataframe thead th {\n",
              "        text-align: right;\n",
              "    }\n",
              "</style>\n",
              "<table border=\"1\" class=\"dataframe\">\n",
              "  <thead>\n",
              "    <tr style=\"text-align: right;\">\n",
              "      <th></th>\n",
              "      <th>News</th>\n",
              "      <th>Topic</th>\n",
              "      <th>news_processed</th>\n",
              "      <th>word2vec_representation</th>\n",
              "    </tr>\n",
              "  </thead>\n",
              "  <tbody>\n",
              "    <tr>\n",
              "      <th>0</th>\n",
              "      <td>‘Battle against time’ to find quake survivors ...</td>\n",
              "      <td>world</td>\n",
              "      <td>battle time find quake survivor japan lift tsu...</td>\n",
              "      <td>[0.09868876, 0.0031383287, 0.09891381, 0.18133...</td>\n",
              "    </tr>\n",
              "    <tr>\n",
              "      <th>1</th>\n",
              "      <td>Scenes of devastation emerged along Japan’s we...</td>\n",
              "      <td>world</td>\n",
              "      <td>scene devastation emerge along japans western ...</td>\n",
              "      <td>[0.10078444, 0.0034007884, 0.10172553, 0.18559...</td>\n",
              "    </tr>\n",
              "    <tr>\n",
              "      <th>2</th>\n",
              "      <td>South Korean opposition leader conscious after...</td>\n",
              "      <td>world</td>\n",
              "      <td>south korean opposition leader conscious stab ...</td>\n",
              "      <td>[0.08801686, 0.0012792752, 0.08629523, 0.15506...</td>\n",
              "    </tr>\n",
              "    <tr>\n",
              "      <th>3</th>\n",
              "      <td>South Korea’s main opposition party leader Lee...</td>\n",
              "      <td>world</td>\n",
              "      <td>south korea main opposition party leader lee j...</td>\n",
              "      <td>[0.09002291, 0.0021016654, 0.09114499, 0.16483...</td>\n",
              "    </tr>\n",
              "    <tr>\n",
              "      <th>4</th>\n",
              "      <td>Denmark’s Crown Princess Mary to become first ...</td>\n",
              "      <td>world</td>\n",
              "      <td>denmark crown princess mary become first austr...</td>\n",
              "      <td>[0.11326799, 0.002031833, 0.111025736, 0.20036...</td>\n",
              "    </tr>\n",
              "    <tr>\n",
              "      <th>...</th>\n",
              "      <td>...</td>\n",
              "      <td>...</td>\n",
              "      <td>...</td>\n",
              "      <td>...</td>\n",
              "    </tr>\n",
              "    <tr>\n",
              "      <th>607</th>\n",
              "      <td>Dharmatic Entertainment, which produces OTT c...</td>\n",
              "      <td>entertainment</td>\n",
              "      <td>dharmatic entertainment produce ott content ka...</td>\n",
              "      <td>[0.08639129, 0.0023234866, 0.08631297, 0.15685...</td>\n",
              "    </tr>\n",
              "    <tr>\n",
              "      <th>608</th>\n",
              "      <td>​A Ranjith Cinema: A Failed Experiment With Truth</td>\n",
              "      <td>entertainment</td>\n",
              "      <td>ranjith cinema fail experiment truth</td>\n",
              "      <td>[0.025679344, 0.0017707869, 0.024864566, 0.050...</td>\n",
              "    </tr>\n",
              "    <tr>\n",
              "      <th>609</th>\n",
              "      <td>The title is a bit of a misnomer. However,A R...</td>\n",
              "      <td>entertainment</td>\n",
              "      <td>title bit misnomer howevera ranjith cinemasic ...</td>\n",
              "      <td>[0.07250749, 0.0013814443, 0.07213596, 0.13158...</td>\n",
              "    </tr>\n",
              "    <tr>\n",
              "      <th>610</th>\n",
              "      <td>The Crown's Luther Ford Reveals Who Pushed Him...</td>\n",
              "      <td>entertainment</td>\n",
              "      <td>crown luther ford reveals push audition prince...</td>\n",
              "      <td>[0.050335854, 0.0019363868, 0.050815266, 0.092...</td>\n",
              "    </tr>\n",
              "    <tr>\n",
              "      <th>611</th>\n",
              "      <td>InThe Crown Season 6Part 2, the Peter Morgan ...</td>\n",
              "      <td>entertainment</td>\n",
              "      <td>inthe crown season 6part peter morgan series d...</td>\n",
              "      <td>[0.10820095, 0.0031526047, 0.10810878, 0.19768...</td>\n",
              "    </tr>\n",
              "  </tbody>\n",
              "</table>\n",
              "<p>612 rows × 4 columns</p>\n",
              "</div>\n",
              "    <div class=\"colab-df-buttons\">\n",
              "\n",
              "  <div class=\"colab-df-container\">\n",
              "    <button class=\"colab-df-convert\" onclick=\"convertToInteractive('df-b478b163-d29f-4256-a597-47f99247b6d1')\"\n",
              "            title=\"Convert this dataframe to an interactive table.\"\n",
              "            style=\"display:none;\">\n",
              "\n",
              "  <svg xmlns=\"http://www.w3.org/2000/svg\" height=\"24px\" viewBox=\"0 -960 960 960\">\n",
              "    <path d=\"M120-120v-720h720v720H120Zm60-500h600v-160H180v160Zm220 220h160v-160H400v160Zm0 220h160v-160H400v160ZM180-400h160v-160H180v160Zm440 0h160v-160H620v160ZM180-180h160v-160H180v160Zm440 0h160v-160H620v160Z\"/>\n",
              "  </svg>\n",
              "    </button>\n",
              "\n",
              "  <style>\n",
              "    .colab-df-container {\n",
              "      display:flex;\n",
              "      gap: 12px;\n",
              "    }\n",
              "\n",
              "    .colab-df-convert {\n",
              "      background-color: #E8F0FE;\n",
              "      border: none;\n",
              "      border-radius: 50%;\n",
              "      cursor: pointer;\n",
              "      display: none;\n",
              "      fill: #1967D2;\n",
              "      height: 32px;\n",
              "      padding: 0 0 0 0;\n",
              "      width: 32px;\n",
              "    }\n",
              "\n",
              "    .colab-df-convert:hover {\n",
              "      background-color: #E2EBFA;\n",
              "      box-shadow: 0px 1px 2px rgba(60, 64, 67, 0.3), 0px 1px 3px 1px rgba(60, 64, 67, 0.15);\n",
              "      fill: #174EA6;\n",
              "    }\n",
              "\n",
              "    .colab-df-buttons div {\n",
              "      margin-bottom: 4px;\n",
              "    }\n",
              "\n",
              "    [theme=dark] .colab-df-convert {\n",
              "      background-color: #3B4455;\n",
              "      fill: #D2E3FC;\n",
              "    }\n",
              "\n",
              "    [theme=dark] .colab-df-convert:hover {\n",
              "      background-color: #434B5C;\n",
              "      box-shadow: 0px 1px 3px 1px rgba(0, 0, 0, 0.15);\n",
              "      filter: drop-shadow(0px 1px 2px rgba(0, 0, 0, 0.3));\n",
              "      fill: #FFFFFF;\n",
              "    }\n",
              "  </style>\n",
              "\n",
              "    <script>\n",
              "      const buttonEl =\n",
              "        document.querySelector('#df-b478b163-d29f-4256-a597-47f99247b6d1 button.colab-df-convert');\n",
              "      buttonEl.style.display =\n",
              "        google.colab.kernel.accessAllowed ? 'block' : 'none';\n",
              "\n",
              "      async function convertToInteractive(key) {\n",
              "        const element = document.querySelector('#df-b478b163-d29f-4256-a597-47f99247b6d1');\n",
              "        const dataTable =\n",
              "          await google.colab.kernel.invokeFunction('convertToInteractive',\n",
              "                                                    [key], {});\n",
              "        if (!dataTable) return;\n",
              "\n",
              "        const docLinkHtml = 'Like what you see? Visit the ' +\n",
              "          '<a target=\"_blank\" href=https://colab.research.google.com/notebooks/data_table.ipynb>data table notebook</a>'\n",
              "          + ' to learn more about interactive tables.';\n",
              "        element.innerHTML = '';\n",
              "        dataTable['output_type'] = 'display_data';\n",
              "        await google.colab.output.renderOutput(dataTable, element);\n",
              "        const docLink = document.createElement('div');\n",
              "        docLink.innerHTML = docLinkHtml;\n",
              "        element.appendChild(docLink);\n",
              "      }\n",
              "    </script>\n",
              "  </div>\n",
              "\n",
              "\n",
              "<div id=\"df-cbdc5c84-7330-4b11-a7e7-99943b985428\">\n",
              "  <button class=\"colab-df-quickchart\" onclick=\"quickchart('df-cbdc5c84-7330-4b11-a7e7-99943b985428')\"\n",
              "            title=\"Suggest charts\"\n",
              "            style=\"display:none;\">\n",
              "\n",
              "<svg xmlns=\"http://www.w3.org/2000/svg\" height=\"24px\"viewBox=\"0 0 24 24\"\n",
              "     width=\"24px\">\n",
              "    <g>\n",
              "        <path d=\"M19 3H5c-1.1 0-2 .9-2 2v14c0 1.1.9 2 2 2h14c1.1 0 2-.9 2-2V5c0-1.1-.9-2-2-2zM9 17H7v-7h2v7zm4 0h-2V7h2v10zm4 0h-2v-4h2v4z\"/>\n",
              "    </g>\n",
              "</svg>\n",
              "  </button>\n",
              "\n",
              "<style>\n",
              "  .colab-df-quickchart {\n",
              "      --bg-color: #E8F0FE;\n",
              "      --fill-color: #1967D2;\n",
              "      --hover-bg-color: #E2EBFA;\n",
              "      --hover-fill-color: #174EA6;\n",
              "      --disabled-fill-color: #AAA;\n",
              "      --disabled-bg-color: #DDD;\n",
              "  }\n",
              "\n",
              "  [theme=dark] .colab-df-quickchart {\n",
              "      --bg-color: #3B4455;\n",
              "      --fill-color: #D2E3FC;\n",
              "      --hover-bg-color: #434B5C;\n",
              "      --hover-fill-color: #FFFFFF;\n",
              "      --disabled-bg-color: #3B4455;\n",
              "      --disabled-fill-color: #666;\n",
              "  }\n",
              "\n",
              "  .colab-df-quickchart {\n",
              "    background-color: var(--bg-color);\n",
              "    border: none;\n",
              "    border-radius: 50%;\n",
              "    cursor: pointer;\n",
              "    display: none;\n",
              "    fill: var(--fill-color);\n",
              "    height: 32px;\n",
              "    padding: 0;\n",
              "    width: 32px;\n",
              "  }\n",
              "\n",
              "  .colab-df-quickchart:hover {\n",
              "    background-color: var(--hover-bg-color);\n",
              "    box-shadow: 0 1px 2px rgba(60, 64, 67, 0.3), 0 1px 3px 1px rgba(60, 64, 67, 0.15);\n",
              "    fill: var(--button-hover-fill-color);\n",
              "  }\n",
              "\n",
              "  .colab-df-quickchart-complete:disabled,\n",
              "  .colab-df-quickchart-complete:disabled:hover {\n",
              "    background-color: var(--disabled-bg-color);\n",
              "    fill: var(--disabled-fill-color);\n",
              "    box-shadow: none;\n",
              "  }\n",
              "\n",
              "  .colab-df-spinner {\n",
              "    border: 2px solid var(--fill-color);\n",
              "    border-color: transparent;\n",
              "    border-bottom-color: var(--fill-color);\n",
              "    animation:\n",
              "      spin 1s steps(1) infinite;\n",
              "  }\n",
              "\n",
              "  @keyframes spin {\n",
              "    0% {\n",
              "      border-color: transparent;\n",
              "      border-bottom-color: var(--fill-color);\n",
              "      border-left-color: var(--fill-color);\n",
              "    }\n",
              "    20% {\n",
              "      border-color: transparent;\n",
              "      border-left-color: var(--fill-color);\n",
              "      border-top-color: var(--fill-color);\n",
              "    }\n",
              "    30% {\n",
              "      border-color: transparent;\n",
              "      border-left-color: var(--fill-color);\n",
              "      border-top-color: var(--fill-color);\n",
              "      border-right-color: var(--fill-color);\n",
              "    }\n",
              "    40% {\n",
              "      border-color: transparent;\n",
              "      border-right-color: var(--fill-color);\n",
              "      border-top-color: var(--fill-color);\n",
              "    }\n",
              "    60% {\n",
              "      border-color: transparent;\n",
              "      border-right-color: var(--fill-color);\n",
              "    }\n",
              "    80% {\n",
              "      border-color: transparent;\n",
              "      border-right-color: var(--fill-color);\n",
              "      border-bottom-color: var(--fill-color);\n",
              "    }\n",
              "    90% {\n",
              "      border-color: transparent;\n",
              "      border-bottom-color: var(--fill-color);\n",
              "    }\n",
              "  }\n",
              "</style>\n",
              "\n",
              "  <script>\n",
              "    async function quickchart(key) {\n",
              "      const quickchartButtonEl =\n",
              "        document.querySelector('#' + key + ' button');\n",
              "      quickchartButtonEl.disabled = true;  // To prevent multiple clicks.\n",
              "      quickchartButtonEl.classList.add('colab-df-spinner');\n",
              "      try {\n",
              "        const charts = await google.colab.kernel.invokeFunction(\n",
              "            'suggestCharts', [key], {});\n",
              "      } catch (error) {\n",
              "        console.error('Error during call to suggestCharts:', error);\n",
              "      }\n",
              "      quickchartButtonEl.classList.remove('colab-df-spinner');\n",
              "      quickchartButtonEl.classList.add('colab-df-quickchart-complete');\n",
              "    }\n",
              "    (() => {\n",
              "      let quickchartButtonEl =\n",
              "        document.querySelector('#df-cbdc5c84-7330-4b11-a7e7-99943b985428 button');\n",
              "      quickchartButtonEl.style.display =\n",
              "        google.colab.kernel.accessAllowed ? 'block' : 'none';\n",
              "    })();\n",
              "  </script>\n",
              "</div>\n",
              "\n",
              "  <div id=\"id_78507c6f-c815-45b2-818b-0e7530910953\">\n",
              "    <style>\n",
              "      .colab-df-generate {\n",
              "        background-color: #E8F0FE;\n",
              "        border: none;\n",
              "        border-radius: 50%;\n",
              "        cursor: pointer;\n",
              "        display: none;\n",
              "        fill: #1967D2;\n",
              "        height: 32px;\n",
              "        padding: 0 0 0 0;\n",
              "        width: 32px;\n",
              "      }\n",
              "\n",
              "      .colab-df-generate:hover {\n",
              "        background-color: #E2EBFA;\n",
              "        box-shadow: 0px 1px 2px rgba(60, 64, 67, 0.3), 0px 1px 3px 1px rgba(60, 64, 67, 0.15);\n",
              "        fill: #174EA6;\n",
              "      }\n",
              "\n",
              "      [theme=dark] .colab-df-generate {\n",
              "        background-color: #3B4455;\n",
              "        fill: #D2E3FC;\n",
              "      }\n",
              "\n",
              "      [theme=dark] .colab-df-generate:hover {\n",
              "        background-color: #434B5C;\n",
              "        box-shadow: 0px 1px 3px 1px rgba(0, 0, 0, 0.15);\n",
              "        filter: drop-shadow(0px 1px 2px rgba(0, 0, 0, 0.3));\n",
              "        fill: #FFFFFF;\n",
              "      }\n",
              "    </style>\n",
              "    <button class=\"colab-df-generate\" onclick=\"generateWithVariable('df')\"\n",
              "            title=\"Generate code using this dataframe.\"\n",
              "            style=\"display:none;\">\n",
              "\n",
              "  <svg xmlns=\"http://www.w3.org/2000/svg\" height=\"24px\"viewBox=\"0 0 24 24\"\n",
              "       width=\"24px\">\n",
              "    <path d=\"M7,19H8.4L18.45,9,17,7.55,7,17.6ZM5,21V16.75L18.45,3.32a2,2,0,0,1,2.83,0l1.4,1.43a1.91,1.91,0,0,1,.58,1.4,1.91,1.91,0,0,1-.58,1.4L9.25,21ZM18.45,9,17,7.55Zm-12,3A5.31,5.31,0,0,0,4.9,8.1,5.31,5.31,0,0,0,1,6.5,5.31,5.31,0,0,0,4.9,4.9,5.31,5.31,0,0,0,6.5,1,5.31,5.31,0,0,0,8.1,4.9,5.31,5.31,0,0,0,12,6.5,5.46,5.46,0,0,0,6.5,12Z\"/>\n",
              "  </svg>\n",
              "    </button>\n",
              "    <script>\n",
              "      (() => {\n",
              "      const buttonEl =\n",
              "        document.querySelector('#id_78507c6f-c815-45b2-818b-0e7530910953 button.colab-df-generate');\n",
              "      buttonEl.style.display =\n",
              "        google.colab.kernel.accessAllowed ? 'block' : 'none';\n",
              "\n",
              "      buttonEl.onclick = () => {\n",
              "        google.colab.notebook.generateWithVariable('df');\n",
              "      }\n",
              "      })();\n",
              "    </script>\n",
              "  </div>\n",
              "\n",
              "    </div>\n",
              "  </div>\n"
            ]
          },
          "metadata": {},
          "execution_count": 52
        }
      ]
    },
    {
      "cell_type": "code",
      "source": [
        "# max_length = max(len(vec) for vec in df['word2vec_representation'])\n",
        "# padded_vectors = [np.pad(vec, ((0, max_length - len(vec)), (0, 0)), mode='constant') for vec in df['word2vec_representation']]\n"
      ],
      "metadata": {
        "id": "DO8T0Kzqv1Tg"
      },
      "id": "DO8T0Kzqv1Tg",
      "execution_count": 53,
      "outputs": []
    },
    {
      "cell_type": "code",
      "source": [
        "df.dropna(subset=['word2vec_representation'] ,inplace=True)"
      ],
      "metadata": {
        "id": "TR6zeBvNLpIE"
      },
      "id": "TR6zeBvNLpIE",
      "execution_count": 54,
      "outputs": []
    },
    {
      "cell_type": "code",
      "source": [
        "df['Topic'] = df['Topic'].map({'world':0, 'entertainment':1, 'business':2, 'sport':3})"
      ],
      "metadata": {
        "id": "UImvexxjCt2s"
      },
      "id": "UImvexxjCt2s",
      "execution_count": 55,
      "outputs": []
    },
    {
      "cell_type": "code",
      "source": [
        "\n"
      ],
      "metadata": {
        "id": "DNOwGOViSLVH"
      },
      "id": "DNOwGOViSLVH",
      "execution_count": 55,
      "outputs": []
    },
    {
      "cell_type": "markdown",
      "source": [
        "#### Splitting"
      ],
      "metadata": {
        "id": "U7Txu0xKv6Iv"
      },
      "id": "U7Txu0xKv6Iv"
    },
    {
      "cell_type": "code",
      "source": [
        "from sklearn.model_selection import train_test_split\n",
        "X = df['word2vec_representation']\n",
        "y = df['Topic']\n",
        "X_train, X_test, y_train, y_test = train_test_split(X, y, test_size=0.2, random_state=42)"
      ],
      "metadata": {
        "id": "9CoPbxxVmzBH"
      },
      "id": "9CoPbxxVmzBH",
      "execution_count": 56,
      "outputs": []
    },
    {
      "cell_type": "code",
      "source": [
        "X_train"
      ],
      "metadata": {
        "id": "k6Zwj53WGKYe",
        "outputId": "5faeb018-84b7-474b-cb60-f4cd77cfc4ac",
        "colab": {
          "base_uri": "https://localhost:8080/"
        }
      },
      "id": "k6Zwj53WGKYe",
      "execution_count": 57,
      "outputs": [
        {
          "output_type": "execute_result",
          "data": {
            "text/plain": [
              "561    [0.11677571, 0.003136852, 0.11711702, 0.214614...\n",
              "287    [0.123131245, 0.004002858, 0.12259665, 0.22354...\n",
              "322    [0.12116873, 0.0017582187, 0.12001245, 0.21914...\n",
              "132    [0.15646113, 0.005034458, 0.15924123, 0.288813...\n",
              "174    [0.040207945, 0.0010403497, 0.04087956, 0.0718...\n",
              "                             ...                        \n",
              "71     [0.074521944, 0.0021130561, 0.07481841, 0.1357...\n",
              "106    [0.070391774, 0.00096784777, 0.07157569, 0.130...\n",
              "270    [0.07667209, 0.0043309415, 0.07758028, 0.14200...\n",
              "435    [0.07184857, 0.002300909, 0.072740786, 0.13095...\n",
              "102    [0.08282236, 0.0024875381, 0.08316349, 0.15038...\n",
              "Name: word2vec_representation, Length: 489, dtype: object"
            ]
          },
          "metadata": {},
          "execution_count": 57
        }
      ]
    },
    {
      "cell_type": "code",
      "source": [
        "X_train = np.array([np.array(vec_list) for vec_list in X_train])"
      ],
      "metadata": {
        "id": "qYBJm4NVGvNS"
      },
      "id": "qYBJm4NVGvNS",
      "execution_count": 58,
      "outputs": []
    },
    {
      "cell_type": "code",
      "source": [
        "X_test = np.array([np.array(vec_list) for vec_list in X_test])"
      ],
      "metadata": {
        "id": "L02lpT-JQffC"
      },
      "id": "L02lpT-JQffC",
      "execution_count": 59,
      "outputs": []
    },
    {
      "cell_type": "code",
      "source": [
        "from sklearn.decomposition import PCA\n",
        "from sklearn.preprocessing import StandardScaler\n",
        "\n",
        "# Assuming X contains your data\n",
        "# Scale the data (optional, but recommended for PCA)\n",
        "scaler = StandardScaler()\n",
        "X_train = scaler.fit_transform(X_train)\n",
        "\n"
      ],
      "metadata": {
        "id": "kYwwkU7MSrtn"
      },
      "id": "kYwwkU7MSrtn",
      "execution_count": 60,
      "outputs": []
    },
    {
      "cell_type": "code",
      "source": [
        "from sklearn.ensemble import RandomForestClassifier\n",
        "from sklearn.metrics import accuracy_score\n",
        "from sklearn.model_selection import cross_val_score\n",
        "from sklearn.model_selection import RandomizedSearchCV\n",
        "\n",
        "for depth in [1,2,3,4,5,6,7,8,9,10]:\n",
        "  rf= RandomForestClassifier(max_depth=depth,n_estimators=100,max_features=\"sqrt\")\n",
        "  rf.fit(X_train, y_train)\n",
        "  trainAccuracy = rf.score(X_train,y_train)\n",
        "  valAccuracy = cross_val_score(rf, X_train, y_train, cv=10)\n",
        "  print(\"Depth  : \", depth, \" Training Accuracy : \", trainAccuracy, \" Cross val score : \" ,np.mean(valAccuracy))"
      ],
      "metadata": {
        "id": "BYwa51F8wGoH",
        "colab": {
          "base_uri": "https://localhost:8080/"
        },
        "outputId": "ddc8e7e8-0006-4fed-e425-b9013abaf3b4"
      },
      "id": "BYwa51F8wGoH",
      "execution_count": 61,
      "outputs": [
        {
          "output_type": "stream",
          "name": "stdout",
          "text": [
            "Depth  :  1  Training Accuracy :  0.3783231083844581  Cross val score :  0.333375850340136\n",
            "Depth  :  2  Training Accuracy :  0.47443762781186094  Cross val score :  0.3722789115646258\n",
            "Depth  :  3  Training Accuracy :  0.5439672801635992  Cross val score :  0.3823554421768708\n",
            "Depth  :  4  Training Accuracy :  0.656441717791411  Cross val score :  0.4008078231292517\n",
            "Depth  :  5  Training Accuracy :  0.7995910020449898  Cross val score :  0.4129251700680272\n",
            "Depth  :  6  Training Accuracy :  0.8895705521472392  Cross val score :  0.42721088435374144\n",
            "Depth  :  7  Training Accuracy :  0.950920245398773  Cross val score :  0.46632653061224494\n",
            "Depth  :  8  Training Accuracy :  0.9815950920245399  Cross val score :  0.4395833333333333\n",
            "Depth  :  9  Training Accuracy :  0.9856850715746421  Cross val score :  0.45816326530612245\n",
            "Depth  :  10  Training Accuracy :  0.9938650306748467  Cross val score :  0.45612244897959187\n"
          ]
        }
      ]
    },
    {
      "cell_type": "code",
      "source": [
        "rf= RandomForestClassifier(max_depth=7,n_estimators=100,max_features=\"sqrt\")\n",
        "rf.fit(X_train, y_train)\n",
        "\n",
        "rf.score(X_test,y_test)"
      ],
      "metadata": {
        "id": "CGNdKf32M0Q7"
      },
      "id": "CGNdKf32M0Q7",
      "execution_count": null,
      "outputs": []
    },
    {
      "cell_type": "code",
      "source": [
        "import xgboost as xgb\n",
        "from sklearn.model_selection import cross_val_score\n",
        "import numpy as np\n",
        "for lr in [0.01,0.02,0.03,0.04,0.05,0.1,0.11,0.12,0.13,0.14,0.15,0.2,0.5,0.7,1]:\n",
        "  model = xgb.XGBClassifier(learning_rate = lr, n_estimators=100, verbosity = 0)\n",
        "  model.fit(X_train, y_train)\n",
        "  print(\"Learning rate : \", lr,\" Train score : \", model.score(X_train,y_train),\" Cross-Val score : \", np.mean(cross_val_score(model, X_train, y_train, cv=10)))\n"
      ],
      "metadata": {
        "id": "yJG-9FT5VmEv",
        "outputId": "a746208d-2e6d-4286-b839-5d846158915b",
        "colab": {
          "base_uri": "https://localhost:8080/"
        }
      },
      "id": "yJG-9FT5VmEv",
      "execution_count": null,
      "outputs": [
        {
          "output_type": "stream",
          "name": "stdout",
          "text": [
            "Learning rate :  0.01  Train score :  0.9693251533742331  Cross-Val score :  0.4232568027210884\n",
            "Learning rate :  0.02  Train score :  0.9877300613496932  Cross-Val score :  0.4642006802721088\n",
            "Learning rate :  0.03  Train score :  0.9938650306748467  Cross-Val score :  0.48052721088435363\n",
            "Learning rate :  0.04  Train score :  0.9938650306748467  Cross-Val score :  0.4988520408163266\n",
            "Learning rate :  0.05  Train score :  0.9959100204498977  Cross-Val score :  0.5009353741496598\n",
            "Learning rate :  0.1  Train score :  0.9959100204498977  Cross-Val score :  0.5295493197278912\n",
            "Learning rate :  0.11  Train score :  0.9959100204498977  Cross-Val score :  0.5029761904761905\n"
          ]
        }
      ]
    }
  ],
  "metadata": {
    "kernelspec": {
      "display_name": "Python 3 (ipykernel)",
      "language": "python",
      "name": "python3"
    },
    "language_info": {
      "codemirror_mode": {
        "name": "ipython",
        "version": 3
      },
      "file_extension": ".py",
      "mimetype": "text/x-python",
      "name": "python",
      "nbconvert_exporter": "python",
      "pygments_lexer": "ipython3",
      "version": "3.9.13"
    },
    "colab": {
      "provenance": []
    }
  },
  "nbformat": 4,
  "nbformat_minor": 5
}